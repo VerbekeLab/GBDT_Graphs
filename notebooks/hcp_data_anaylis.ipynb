{
 "cells": [
  {
   "cell_type": "markdown",
   "id": "b6c17d8f",
   "metadata": {},
   "source": [
    "# Data Analysis of the Health Care Provider Dataset"
   ]
  },
  {
   "cell_type": "markdown",
   "id": "11c52201",
   "metadata": {},
   "source": [
    "In this notebook, we analyse the data and network structure of the Health Care Provider Dataset from kaggle. This mainly concerns the possibilities to split the data for training and testing. "
   ]
  },
  {
   "cell_type": "markdown",
   "id": "39f3b02c",
   "metadata": {},
   "source": [
    "## Loading and inspecting the data"
   ]
  },
  {
   "cell_type": "markdown",
   "id": "7a61b2cd",
   "metadata": {},
   "source": [
    "The data provided on kaggle consists of four different datasets."
   ]
  },
  {
   "cell_type": "code",
   "execution_count": null,
   "id": "fe3b78ae",
   "metadata": {},
   "outputs": [],
   "source": [
    "import pandas as pd"
   ]
  },
  {
   "cell_type": "code",
   "execution_count": null,
   "id": "fa98f93d",
   "metadata": {},
   "outputs": [],
   "source": [
    "labels = pd.read_csv('../data/HCP/Train.csv')\n",
    "beneficiary = pd.read_csv('../data/HCP/Train_Beneficiarydata.csv')\n",
    "inpatient = pd.read_csv('../data/HCP/Train_Inpatientdata.csv')\n",
    "outpatient = pd.read_csv('../data/HCP/Train_Outpatientdata.csv')"
   ]
  },
  {
   "cell_type": "code",
   "execution_count": null,
   "id": "3ab493f1",
   "metadata": {},
   "outputs": [],
   "source": [
    "labels['Label'] = [0 if x=='No' else 1 for x in labels['PotentialFraud']]\n",
    "labels.set_index('Provider', inplace=True)\n",
    "labels = labels[['Label']]\n",
    "labels.head()"
   ]
  },
  {
   "cell_type": "code",
   "execution_count": null,
   "id": "094341dc",
   "metadata": {},
   "outputs": [],
   "source": [
    "beneficiary.head()"
   ]
  },
  {
   "cell_type": "code",
   "execution_count": null,
   "id": "24bea5c2",
   "metadata": {},
   "outputs": [],
   "source": [
    "inpatient.head()"
   ]
  },
  {
   "cell_type": "code",
   "execution_count": null,
   "id": "a23f13ac",
   "metadata": {},
   "outputs": [],
   "source": [
    "outpatient.head()"
   ]
  },
  {
   "cell_type": "markdown",
   "id": "bd4d3bb3",
   "metadata": {},
   "source": [
    "## Feature engineering"
   ]
  },
  {
   "cell_type": "markdown",
   "id": "f8e87565",
   "metadata": {},
   "source": [
    "The labels are available for providers. These nodes do not have any features, so we will calculate the following features:\n",
    "* number of claims;\n",
    "* avg reembursed;\n",
    "* std reembursed;\n",
    "* number of claims per beneficiary.\n",
    "\n",
    "These summarise some key characteristics of the providers, that might help the algorithm uncover fraudulent behaviour. "
   ]
  },
  {
   "cell_type": "code",
   "execution_count": null,
   "id": "1fbb1f4a",
   "metadata": {},
   "outputs": [],
   "source": [
    "columns_to_select = ['Provider', 'BeneID', 'InscClaimAmtReimbursed']\n",
    "edges = pd.concat([inpatient[columns_to_select], outpatient[columns_to_select]])\n",
    "edges.head()"
   ]
  },
  {
   "cell_type": "code",
   "execution_count": null,
   "id": "cab29a5c",
   "metadata": {},
   "outputs": [],
   "source": [
    "number_of_claims = edges[['Provider', 'InscClaimAmtReimbursed']].groupby(['Provider']).count()\n",
    "number_of_claims.columns = ['number_of_claims']\n",
    "\n",
    "average_claims = edges[['Provider', 'InscClaimAmtReimbursed']].groupby(['Provider']).mean()\n",
    "average_claims.columns = ['average_claims']\n",
    "\n",
    "std_claims = edges[['Provider', 'InscClaimAmtReimbursed']].groupby(['Provider']).std()\n",
    "std_claims.columns = ['std_claims']\n",
    "\n",
    "number_of_beneficiaries = edges[['Provider', 'BeneID']].drop_duplicates().groupby(['Provider']).count()\n",
    "number_of_beneficiaries.columns = ['number_of_beneficiaries']\n",
    "\n",
    "provider_features = pd.concat([number_of_claims, average_claims, std_claims, number_of_beneficiaries], axis=1)\n",
    "provider_features.index.rename('Target', inplace=True)\n",
    "provider_features.head()\n"
   ]
  },
  {
   "cell_type": "code",
   "execution_count": null,
   "id": "54c66e14",
   "metadata": {},
   "outputs": [],
   "source": [
    "provider_features.isnull().sum()"
   ]
  },
  {
   "cell_type": "code",
   "execution_count": null,
   "id": "5f93ffc0",
   "metadata": {},
   "outputs": [],
   "source": [
    "provider_features.fillna(0, inplace=True)"
   ]
  },
  {
   "cell_type": "code",
   "execution_count": null,
   "id": "261988b9",
   "metadata": {},
   "outputs": [],
   "source": [
    "beneficiary['Deceased'] = 1\n",
    "beneficiary.loc[beneficiary['DOD'].isna(), 'Deceased'] = 0\n",
    "beneficiary_features = beneficiary.drop(columns=[\"DOD\"])\n",
    "\n",
    "beneficiary_features['RenalDiseaseIndicator'] = [1 if x == 'Y' else 0 for x in beneficiary['RenalDiseaseIndicator']]\n",
    "\n",
    "beneficiary_features['DOB'] = beneficiary_features['DOB'].str.split('-').str[0].astype(int)\n",
    "beneficiary_features.set_index('BeneID', inplace=True)\n",
    "beneficiary_features.head()\n",
    "\n",
    "beneficiary_features.isnull().sum()"
   ]
  },
  {
   "cell_type": "markdown",
   "id": "9c626e8c",
   "metadata": {},
   "source": [
    "## Network construction"
   ]
  },
  {
   "cell_type": "markdown",
   "id": "b965a5c0",
   "metadata": {},
   "source": [
    "For the network, we work exclusively with providers and beneficiaries. We will look at the connected components in an attempt to find a meaningful train-test split. "
   ]
  },
  {
   "cell_type": "code",
   "execution_count": null,
   "id": "d9c68f3a",
   "metadata": {},
   "outputs": [],
   "source": [
    "edges"
   ]
  },
  {
   "cell_type": "code",
   "execution_count": null,
   "id": "afe6025f",
   "metadata": {},
   "outputs": [],
   "source": [
    "import networkx as nx\n",
    "G = nx.Graph()\n",
    "\n",
    "for node in provider_features.index:\n",
    "    G.add_nodes_from([(node, {'label': 'provider'})])\n",
    "for node in beneficiary_features.index:\n",
    "    G.add_nodes_from([(node, {'label': 'beneficiary'})])\n",
    "\n",
    "G.add_edges_from(edges[['Provider', 'BeneID']].itertuples(index=False, name=None))"
   ]
  },
  {
   "cell_type": "code",
   "execution_count": null,
   "id": "7b02f9ec",
   "metadata": {},
   "outputs": [],
   "source": [
    "for component in nx.connected_components(G):\n",
    "    print(f\"Component of size {len(component)}:\")\n",
    "\n",
    "list_components = list(nx.connected_components(G))\n",
    "largest_component = max(list_components, key=len)"
   ]
  },
  {
   "cell_type": "code",
   "execution_count": null,
   "id": "20d4a1ac",
   "metadata": {},
   "outputs": [],
   "source": [
    "G = G.subgraph(largest_component).copy()"
   ]
  },
  {
   "cell_type": "code",
   "execution_count": null,
   "id": "70998c4b",
   "metadata": {},
   "outputs": [],
   "source": [
    "# draw network with colourmap according to label of node\n",
    "ego_net = nx.ego_graph(G, 'PRV51001', radius=3)\n",
    "node_colors = ['blue' if ego_net.nodes[n]['label'] == 'provider' else 'orange' for n in ego_net.nodes()]\n",
    "nx.draw_networkx(ego_net, with_labels=False, node_size=50, font_size=5, node_color=node_colors)"
   ]
  },
  {
   "cell_type": "markdown",
   "id": "a90f4ca9",
   "metadata": {},
   "source": [
    "## Train-test split"
   ]
  },
  {
   "cell_type": "markdown",
   "id": "7a85be8d",
   "metadata": {},
   "source": [
    "The train-test split can be done in many different ways. Here, we opt to apply the louvain community detection method. The resulting communities are used to split the graph into two groups, one for training and one for testing. \n",
    "\n",
    "We set the resolution parameter quite low to favour large communities. "
   ]
  },
  {
   "cell_type": "code",
   "execution_count": null,
   "id": "03ea6bd3",
   "metadata": {},
   "outputs": [],
   "source": [
    "communities = nx.community.louvain_communities(G, resolution=0.2, seed = 2025)"
   ]
  },
  {
   "cell_type": "code",
   "execution_count": null,
   "id": "6d62372b",
   "metadata": {},
   "outputs": [],
   "source": [
    "len(communities)"
   ]
  },
  {
   "cell_type": "code",
   "execution_count": null,
   "id": "77a33e47",
   "metadata": {},
   "outputs": [],
   "source": [
    "for com in communities:\n",
    "    print(f\"Community of size: {len(com)}\")"
   ]
  },
  {
   "cell_type": "code",
   "execution_count": null,
   "id": "b557349f",
   "metadata": {},
   "outputs": [],
   "source": [
    "com_1 = [communities[i] for i in [1,2,4]]\n",
    "com_1_nodes = [node for com in com_1 for node in com]\n",
    "com_2 = [communities[i] for i in [0,3,5]]\n",
    "com_2_nodes = [node for com in com_2 for node in com]"
   ]
  },
  {
   "cell_type": "code",
   "execution_count": null,
   "id": "df992c2e",
   "metadata": {},
   "outputs": [],
   "source": [
    "G_train = G.subgraph(com_1_nodes)\n",
    "G_test = G.subgraph(com_2_nodes)"
   ]
  },
  {
   "cell_type": "code",
   "execution_count": null,
   "id": "5cb4cdef",
   "metadata": {},
   "outputs": [],
   "source": [
    "dataset_beneficiaries_train = beneficiary_features.loc[[n for n, d in G_train.nodes(data=True) if d['label'] == 'beneficiary']]\n",
    "dataset_providers_train = provider_features.loc[[n for n, d in G_train.nodes(data=True) if d['label'] == 'provider']]\n",
    "\n",
    "dataset_beneficiaries_test = beneficiary_features.loc[[n for n, d in G_test.nodes(data=True) if d['label'] == 'beneficiary']]\n",
    "dataset_providers_test = provider_features.loc[[n for n, d in G_test.nodes(data=True) if d['label'] == 'provider']]\n",
    "\n",
    "labels_providers_train = labels.loc[dataset_providers_train.index]\n",
    "labels_providers_test = labels.loc[dataset_providers_test.index]\n",
    "\n",
    "# Beneficiaries don't have labels. Make dataframes with all 0's\n",
    "labels_beneficiaries_train = pd.DataFrame(0, index=dataset_beneficiaries_train.index, columns=['Label'])\n",
    "labels_beneficiaries_test = pd.DataFrame(0, index=dataset_beneficiaries_test.index, columns=['Label'])"
   ]
  },
  {
   "cell_type": "code",
   "execution_count": null,
   "id": "2fb7e9d7",
   "metadata": {},
   "outputs": [],
   "source": [
    "x_train = [\n",
    "    G_train, \n",
    "    dataset_providers_train, \n",
    "    dataset_beneficiaries_train, \n",
    "    labels_providers_train,\n",
    "    labels_beneficiaries_train\n",
    "]\n",
    "\n",
    "x_test = [\n",
    "    G_test, \n",
    "    dataset_providers_test, \n",
    "    dataset_beneficiaries_test, \n",
    "    labels_providers_test,\n",
    "    labels_beneficiaries_test\n",
    "]"
   ]
  },
  {
   "cell_type": "code",
   "execution_count": null,
   "id": "bec43cc7",
   "metadata": {},
   "outputs": [],
   "source": [
    "import pickle\n",
    "with open('../data/HCP/hcp_train.pkl', 'wb') as f:\n",
    "    pickle.dump(x_train, f)\n",
    "\n",
    "with open('../data/HCP/hcp_test.pkl', 'wb') as f:\n",
    "    pickle.dump(x_test, f)"
   ]
  },
  {
   "cell_type": "code",
   "execution_count": null,
   "id": "6ba5693c",
   "metadata": {},
   "outputs": [],
   "source": [
    "import pickle\n",
    "import networkx as nx\n",
    "import pandas as pd\n",
    "\n",
    "with open('../data/HCP/hcp_train.pkl', 'rb') as f:\n",
    "    hcp_train = pickle.load(f)\n",
    "\n",
    "with open('../data/HCP/hcp_test.pkl', 'rb') as f:\n",
    "    hcp_test = pickle.load(f)\n"
   ]
  },
  {
   "cell_type": "code",
   "execution_count": null,
   "id": "c4f5b35f",
   "metadata": {},
   "outputs": [],
   "source": [
    "G_train = hcp_train[0]  # Graph\n",
    "G_test = hcp_test[0]    # Graph"
   ]
  },
  {
   "cell_type": "code",
   "execution_count": null,
   "id": "8b66fcd4",
   "metadata": {},
   "outputs": [],
   "source": [
    "G_train.number_of_edges()\n"
   ]
  },
  {
   "cell_type": "code",
   "execution_count": null,
   "id": "4aad2112",
   "metadata": {},
   "outputs": [],
   "source": [
    "G_test.number_of_edges()"
   ]
  },
  {
   "cell_type": "code",
   "execution_count": null,
   "id": "4dba6041",
   "metadata": {},
   "outputs": [],
   "source": [
    "G_train.number_of_nodes()"
   ]
  },
  {
   "cell_type": "code",
   "execution_count": null,
   "id": "d9359daa",
   "metadata": {},
   "outputs": [],
   "source": [
    "G_test.number_of_nodes()"
   ]
  },
  {
   "cell_type": "code",
   "execution_count": null,
   "id": "c43d4997",
   "metadata": {},
   "outputs": [],
   "source": [
    "hcp_train[1]"
   ]
  },
  {
   "cell_type": "code",
   "execution_count": null,
   "id": "9a401116",
   "metadata": {},
   "outputs": [],
   "source": [
    "hcp_test[2]"
   ]
  },
  {
   "cell_type": "code",
   "execution_count": null,
   "id": "8468fe02",
   "metadata": {},
   "outputs": [],
   "source": [
    "G_deg=G_train.degree()\n",
    "G_test_deg=G_test.degree()\n",
    "\n",
    "degree_providers_train = [G_deg[n] for n in G_train.nodes() if G_train.nodes[n]['label'] == 'provider']\n",
    "degree_providers_test = [G_test_deg[n] for n in G_test.nodes() if G_test.nodes[n]['label'] == 'provider']"
   ]
  },
  {
   "cell_type": "code",
   "execution_count": null,
   "id": "7956bf17",
   "metadata": {},
   "outputs": [],
   "source": [
    "import numpy as np\n",
    "np.mean(degree_providers_train)\n"
   ]
  },
  {
   "cell_type": "code",
   "execution_count": null,
   "id": "a8c64c16",
   "metadata": {},
   "outputs": [],
   "source": [
    "np.mean(degree_providers_test)"
   ]
  },
  {
   "cell_type": "code",
   "execution_count": null,
   "id": "189421a8",
   "metadata": {},
   "outputs": [],
   "source": [
    "np.mean([G_deg[n] for n in G_train.nodes()])"
   ]
  },
  {
   "cell_type": "code",
   "execution_count": null,
   "id": "fa24a490",
   "metadata": {},
   "outputs": [],
   "source": [
    "np.mean([G_test_deg[n] for n in G_test.nodes()])"
   ]
  },
  {
   "cell_type": "code",
   "execution_count": null,
   "id": "5d1306f4",
   "metadata": {},
   "outputs": [],
   "source": [
    "degree_beneficiaries_train = [G_deg[n] for n in G_train.nodes() if G_train.nodes[n]['label'] == 'beneficiary']\n",
    "degree_beneficiaries_test = [G_test_deg[n] for n in G_test.nodes() if G_test.nodes[n]['label'] == 'beneficiary']"
   ]
  },
  {
   "cell_type": "code",
   "execution_count": null,
   "id": "e52266f9",
   "metadata": {},
   "outputs": [],
   "source": [
    "np.mean(degree_beneficiaries_train)"
   ]
  },
  {
   "cell_type": "code",
   "execution_count": null,
   "id": "876b66e0",
   "metadata": {},
   "outputs": [],
   "source": [
    "np.mean(degree_beneficiaries_test)"
   ]
  },
  {
   "cell_type": "code",
   "execution_count": null,
   "id": "6ef87d29",
   "metadata": {},
   "outputs": [],
   "source": [
    "labels_train = hcp_train[3]; print(labels_train.sum())\n",
    "labels_test = hcp_test[3]; print(labels_test.sum())"
   ]
  },
  {
   "cell_type": "code",
   "execution_count": null,
   "id": "ff3832b9",
   "metadata": {},
   "outputs": [],
   "source": [
    "labels_train = hcp_train[3]; print(labels_train.mean())\n",
    "labels_test = hcp_test[3]; print(labels_test.mean())"
   ]
  },
  {
   "cell_type": "code",
   "execution_count": null,
   "id": "7ca348f8",
   "metadata": {},
   "outputs": [],
   "source": [
    "from sklearn.ensemble import GradientBoostingClassifier\n",
    "\n",
    "X_train = hcp_train[1]\n",
    "y_train = hcp_train[3]\n",
    "\n",
    "X_test = hcp_test[1]\n",
    "y_test = hcp_test[3]\n",
    "\n",
    "clf = GradientBoostingClassifier()\n",
    "clf.fit(X_train, y_train)"
   ]
  },
  {
   "cell_type": "code",
   "execution_count": null,
   "id": "43dee638",
   "metadata": {},
   "outputs": [],
   "source": [
    "y_pred = clf.predict_proba(X_test)[:,1]\n",
    "\n",
    "from sklearn.metrics import roc_auc_score\n",
    "roc_auc = roc_auc_score(y_test, y_pred); print(roc_auc)"
   ]
  },
  {
   "cell_type": "code",
   "execution_count": null,
   "id": "072a883c",
   "metadata": {},
   "outputs": [],
   "source": [
    "importance = clf.feature_importances_\n",
    "feature_names = X_train.columns\n",
    "\n",
    "forest_importance = pd.Series(importance, index=feature_names)\n",
    "forest_importance.plot.bar()"
   ]
  },
  {
   "cell_type": "code",
   "execution_count": null,
   "id": "849ca39a",
   "metadata": {},
   "outputs": [],
   "source": [
    "import shap\n",
    "\n",
    "explainer = shap.TreeExplainer(clf, X_train)\n",
    "shap_values = explainer(X_test)\n",
    "\n",
    "shap.summary_plot(shap_values, X_test)"
   ]
  }
 ],
 "metadata": {
  "kernelspec": {
   "display_name": "GBDT38",
   "language": "python",
   "name": "python3"
  },
  "language_info": {
   "codemirror_mode": {
    "name": "ipython",
    "version": 3
   },
   "file_extension": ".py",
   "mimetype": "text/x-python",
   "name": "python",
   "nbconvert_exporter": "python",
   "pygments_lexer": "ipython3",
   "version": "3.8.20"
  }
 },
 "nbformat": 4,
 "nbformat_minor": 5
}
