{
 "cells": [
  {
   "cell_type": "markdown",
   "id": "b6c17d8f",
   "metadata": {},
   "source": [
    "# Data Analysis of the Health Care Provider Dataset"
   ]
  },
  {
   "cell_type": "markdown",
   "id": "11c52201",
   "metadata": {},
   "source": [
    "In this notebook, we analyse the data and network structure of the Health Care Provider Dataset from kaggle. This mainly concerns the possibilities to split the data for training and testing. "
   ]
  },
  {
   "cell_type": "markdown",
   "id": "39f3b02c",
   "metadata": {},
   "source": [
    "## Loading and inspecting the data"
   ]
  },
  {
   "cell_type": "markdown",
   "id": "7a61b2cd",
   "metadata": {},
   "source": [
    "The data provided on kaggle consists of four different datasets."
   ]
  },
  {
   "cell_type": "code",
   "execution_count": 1,
   "id": "fe3b78ae",
   "metadata": {},
   "outputs": [],
   "source": [
    "import pandas as pd"
   ]
  },
  {
   "cell_type": "code",
   "execution_count": 2,
   "id": "fa98f93d",
   "metadata": {},
   "outputs": [],
   "source": [
    "labels = pd.read_csv('../data/HCP/Train.csv')\n",
    "beneficiary = pd.read_csv('../data/HCP/Train_Beneficiarydata.csv')\n",
    "inpatient = pd.read_csv('../data/HCP/Train_Inpatientdata.csv')\n",
    "outpatient = pd.read_csv('../data/HCP/Train_Outpatientdata.csv')"
   ]
  },
  {
   "cell_type": "code",
   "execution_count": 3,
   "id": "3ab493f1",
   "metadata": {},
   "outputs": [
    {
     "data": {
      "application/vnd.microsoft.datawrangler.viewer.v0+json": {
       "columns": [
        {
         "name": "Provider",
         "rawType": "object",
         "type": "string"
        },
        {
         "name": "Label",
         "rawType": "int64",
         "type": "integer"
        }
       ],
       "ref": "c14ead20-5cfe-4dab-a904-687fc6597949",
       "rows": [
        [
         "PRV51001",
         "0"
        ],
        [
         "PRV51003",
         "1"
        ],
        [
         "PRV51004",
         "0"
        ],
        [
         "PRV51005",
         "1"
        ],
        [
         "PRV51007",
         "0"
        ]
       ],
       "shape": {
        "columns": 1,
        "rows": 5
       }
      },
      "text/html": [
       "<div>\n",
       "<style scoped>\n",
       "    .dataframe tbody tr th:only-of-type {\n",
       "        vertical-align: middle;\n",
       "    }\n",
       "\n",
       "    .dataframe tbody tr th {\n",
       "        vertical-align: top;\n",
       "    }\n",
       "\n",
       "    .dataframe thead th {\n",
       "        text-align: right;\n",
       "    }\n",
       "</style>\n",
       "<table border=\"1\" class=\"dataframe\">\n",
       "  <thead>\n",
       "    <tr style=\"text-align: right;\">\n",
       "      <th></th>\n",
       "      <th>Label</th>\n",
       "    </tr>\n",
       "    <tr>\n",
       "      <th>Provider</th>\n",
       "      <th></th>\n",
       "    </tr>\n",
       "  </thead>\n",
       "  <tbody>\n",
       "    <tr>\n",
       "      <th>PRV51001</th>\n",
       "      <td>0</td>\n",
       "    </tr>\n",
       "    <tr>\n",
       "      <th>PRV51003</th>\n",
       "      <td>1</td>\n",
       "    </tr>\n",
       "    <tr>\n",
       "      <th>PRV51004</th>\n",
       "      <td>0</td>\n",
       "    </tr>\n",
       "    <tr>\n",
       "      <th>PRV51005</th>\n",
       "      <td>1</td>\n",
       "    </tr>\n",
       "    <tr>\n",
       "      <th>PRV51007</th>\n",
       "      <td>0</td>\n",
       "    </tr>\n",
       "  </tbody>\n",
       "</table>\n",
       "</div>"
      ],
      "text/plain": [
       "          Label\n",
       "Provider       \n",
       "PRV51001      0\n",
       "PRV51003      1\n",
       "PRV51004      0\n",
       "PRV51005      1\n",
       "PRV51007      0"
      ]
     },
     "execution_count": 3,
     "metadata": {},
     "output_type": "execute_result"
    }
   ],
   "source": [
    "labels['Label'] = [0 if x=='No' else 1 for x in labels['PotentialFraud']]\n",
    "labels.set_index('Provider', inplace=True)\n",
    "labels = labels[['Label']]\n",
    "labels.head()"
   ]
  },
  {
   "cell_type": "code",
   "execution_count": 4,
   "id": "094341dc",
   "metadata": {},
   "outputs": [
    {
     "data": {
      "application/vnd.microsoft.datawrangler.viewer.v0+json": {
       "columns": [
        {
         "name": "index",
         "rawType": "int64",
         "type": "integer"
        },
        {
         "name": "BeneID",
         "rawType": "object",
         "type": "string"
        },
        {
         "name": "DOB",
         "rawType": "object",
         "type": "string"
        },
        {
         "name": "DOD",
         "rawType": "object",
         "type": "unknown"
        },
        {
         "name": "Gender",
         "rawType": "int64",
         "type": "integer"
        },
        {
         "name": "Race",
         "rawType": "int64",
         "type": "integer"
        },
        {
         "name": "RenalDiseaseIndicator",
         "rawType": "object",
         "type": "string"
        },
        {
         "name": "State",
         "rawType": "int64",
         "type": "integer"
        },
        {
         "name": "County",
         "rawType": "int64",
         "type": "integer"
        },
        {
         "name": "NoOfMonths_PartACov",
         "rawType": "int64",
         "type": "integer"
        },
        {
         "name": "NoOfMonths_PartBCov",
         "rawType": "int64",
         "type": "integer"
        },
        {
         "name": "ChronicCond_Alzheimer",
         "rawType": "int64",
         "type": "integer"
        },
        {
         "name": "ChronicCond_Heartfailure",
         "rawType": "int64",
         "type": "integer"
        },
        {
         "name": "ChronicCond_KidneyDisease",
         "rawType": "int64",
         "type": "integer"
        },
        {
         "name": "ChronicCond_Cancer",
         "rawType": "int64",
         "type": "integer"
        },
        {
         "name": "ChronicCond_ObstrPulmonary",
         "rawType": "int64",
         "type": "integer"
        },
        {
         "name": "ChronicCond_Depression",
         "rawType": "int64",
         "type": "integer"
        },
        {
         "name": "ChronicCond_Diabetes",
         "rawType": "int64",
         "type": "integer"
        },
        {
         "name": "ChronicCond_IschemicHeart",
         "rawType": "int64",
         "type": "integer"
        },
        {
         "name": "ChronicCond_Osteoporasis",
         "rawType": "int64",
         "type": "integer"
        },
        {
         "name": "ChronicCond_rheumatoidarthritis",
         "rawType": "int64",
         "type": "integer"
        },
        {
         "name": "ChronicCond_stroke",
         "rawType": "int64",
         "type": "integer"
        },
        {
         "name": "IPAnnualReimbursementAmt",
         "rawType": "int64",
         "type": "integer"
        },
        {
         "name": "IPAnnualDeductibleAmt",
         "rawType": "int64",
         "type": "integer"
        },
        {
         "name": "OPAnnualReimbursementAmt",
         "rawType": "int64",
         "type": "integer"
        },
        {
         "name": "OPAnnualDeductibleAmt",
         "rawType": "int64",
         "type": "integer"
        }
       ],
       "ref": "73aad919-f52a-45de-ba87-0903f387325b",
       "rows": [
        [
         "0",
         "BENE11001",
         "1943-01-01",
         null,
         "1",
         "1",
         "0",
         "39",
         "230",
         "12",
         "12",
         "1",
         "2",
         "1",
         "2",
         "2",
         "1",
         "1",
         "1",
         "2",
         "1",
         "1",
         "36000",
         "3204",
         "60",
         "70"
        ],
        [
         "1",
         "BENE11002",
         "1936-09-01",
         null,
         "2",
         "1",
         "0",
         "39",
         "280",
         "12",
         "12",
         "2",
         "2",
         "2",
         "2",
         "2",
         "2",
         "2",
         "2",
         "2",
         "2",
         "2",
         "0",
         "0",
         "30",
         "50"
        ],
        [
         "2",
         "BENE11003",
         "1936-08-01",
         null,
         "1",
         "1",
         "0",
         "52",
         "590",
         "12",
         "12",
         "1",
         "2",
         "2",
         "2",
         "2",
         "2",
         "2",
         "1",
         "2",
         "2",
         "2",
         "0",
         "0",
         "90",
         "40"
        ],
        [
         "3",
         "BENE11004",
         "1922-07-01",
         null,
         "1",
         "1",
         "0",
         "39",
         "270",
         "12",
         "12",
         "1",
         "1",
         "2",
         "2",
         "2",
         "2",
         "1",
         "1",
         "1",
         "1",
         "2",
         "0",
         "0",
         "1810",
         "760"
        ],
        [
         "4",
         "BENE11005",
         "1935-09-01",
         null,
         "1",
         "1",
         "0",
         "24",
         "680",
         "12",
         "12",
         "2",
         "2",
         "2",
         "2",
         "1",
         "2",
         "1",
         "2",
         "2",
         "2",
         "2",
         "0",
         "0",
         "1790",
         "1200"
        ]
       ],
       "shape": {
        "columns": 25,
        "rows": 5
       }
      },
      "text/html": [
       "<div>\n",
       "<style scoped>\n",
       "    .dataframe tbody tr th:only-of-type {\n",
       "        vertical-align: middle;\n",
       "    }\n",
       "\n",
       "    .dataframe tbody tr th {\n",
       "        vertical-align: top;\n",
       "    }\n",
       "\n",
       "    .dataframe thead th {\n",
       "        text-align: right;\n",
       "    }\n",
       "</style>\n",
       "<table border=\"1\" class=\"dataframe\">\n",
       "  <thead>\n",
       "    <tr style=\"text-align: right;\">\n",
       "      <th></th>\n",
       "      <th>BeneID</th>\n",
       "      <th>DOB</th>\n",
       "      <th>DOD</th>\n",
       "      <th>Gender</th>\n",
       "      <th>Race</th>\n",
       "      <th>RenalDiseaseIndicator</th>\n",
       "      <th>State</th>\n",
       "      <th>County</th>\n",
       "      <th>NoOfMonths_PartACov</th>\n",
       "      <th>NoOfMonths_PartBCov</th>\n",
       "      <th>...</th>\n",
       "      <th>ChronicCond_Depression</th>\n",
       "      <th>ChronicCond_Diabetes</th>\n",
       "      <th>ChronicCond_IschemicHeart</th>\n",
       "      <th>ChronicCond_Osteoporasis</th>\n",
       "      <th>ChronicCond_rheumatoidarthritis</th>\n",
       "      <th>ChronicCond_stroke</th>\n",
       "      <th>IPAnnualReimbursementAmt</th>\n",
       "      <th>IPAnnualDeductibleAmt</th>\n",
       "      <th>OPAnnualReimbursementAmt</th>\n",
       "      <th>OPAnnualDeductibleAmt</th>\n",
       "    </tr>\n",
       "  </thead>\n",
       "  <tbody>\n",
       "    <tr>\n",
       "      <th>0</th>\n",
       "      <td>BENE11001</td>\n",
       "      <td>1943-01-01</td>\n",
       "      <td>NaN</td>\n",
       "      <td>1</td>\n",
       "      <td>1</td>\n",
       "      <td>0</td>\n",
       "      <td>39</td>\n",
       "      <td>230</td>\n",
       "      <td>12</td>\n",
       "      <td>12</td>\n",
       "      <td>...</td>\n",
       "      <td>1</td>\n",
       "      <td>1</td>\n",
       "      <td>1</td>\n",
       "      <td>2</td>\n",
       "      <td>1</td>\n",
       "      <td>1</td>\n",
       "      <td>36000</td>\n",
       "      <td>3204</td>\n",
       "      <td>60</td>\n",
       "      <td>70</td>\n",
       "    </tr>\n",
       "    <tr>\n",
       "      <th>1</th>\n",
       "      <td>BENE11002</td>\n",
       "      <td>1936-09-01</td>\n",
       "      <td>NaN</td>\n",
       "      <td>2</td>\n",
       "      <td>1</td>\n",
       "      <td>0</td>\n",
       "      <td>39</td>\n",
       "      <td>280</td>\n",
       "      <td>12</td>\n",
       "      <td>12</td>\n",
       "      <td>...</td>\n",
       "      <td>2</td>\n",
       "      <td>2</td>\n",
       "      <td>2</td>\n",
       "      <td>2</td>\n",
       "      <td>2</td>\n",
       "      <td>2</td>\n",
       "      <td>0</td>\n",
       "      <td>0</td>\n",
       "      <td>30</td>\n",
       "      <td>50</td>\n",
       "    </tr>\n",
       "    <tr>\n",
       "      <th>2</th>\n",
       "      <td>BENE11003</td>\n",
       "      <td>1936-08-01</td>\n",
       "      <td>NaN</td>\n",
       "      <td>1</td>\n",
       "      <td>1</td>\n",
       "      <td>0</td>\n",
       "      <td>52</td>\n",
       "      <td>590</td>\n",
       "      <td>12</td>\n",
       "      <td>12</td>\n",
       "      <td>...</td>\n",
       "      <td>2</td>\n",
       "      <td>2</td>\n",
       "      <td>1</td>\n",
       "      <td>2</td>\n",
       "      <td>2</td>\n",
       "      <td>2</td>\n",
       "      <td>0</td>\n",
       "      <td>0</td>\n",
       "      <td>90</td>\n",
       "      <td>40</td>\n",
       "    </tr>\n",
       "    <tr>\n",
       "      <th>3</th>\n",
       "      <td>BENE11004</td>\n",
       "      <td>1922-07-01</td>\n",
       "      <td>NaN</td>\n",
       "      <td>1</td>\n",
       "      <td>1</td>\n",
       "      <td>0</td>\n",
       "      <td>39</td>\n",
       "      <td>270</td>\n",
       "      <td>12</td>\n",
       "      <td>12</td>\n",
       "      <td>...</td>\n",
       "      <td>2</td>\n",
       "      <td>1</td>\n",
       "      <td>1</td>\n",
       "      <td>1</td>\n",
       "      <td>1</td>\n",
       "      <td>2</td>\n",
       "      <td>0</td>\n",
       "      <td>0</td>\n",
       "      <td>1810</td>\n",
       "      <td>760</td>\n",
       "    </tr>\n",
       "    <tr>\n",
       "      <th>4</th>\n",
       "      <td>BENE11005</td>\n",
       "      <td>1935-09-01</td>\n",
       "      <td>NaN</td>\n",
       "      <td>1</td>\n",
       "      <td>1</td>\n",
       "      <td>0</td>\n",
       "      <td>24</td>\n",
       "      <td>680</td>\n",
       "      <td>12</td>\n",
       "      <td>12</td>\n",
       "      <td>...</td>\n",
       "      <td>2</td>\n",
       "      <td>1</td>\n",
       "      <td>2</td>\n",
       "      <td>2</td>\n",
       "      <td>2</td>\n",
       "      <td>2</td>\n",
       "      <td>0</td>\n",
       "      <td>0</td>\n",
       "      <td>1790</td>\n",
       "      <td>1200</td>\n",
       "    </tr>\n",
       "  </tbody>\n",
       "</table>\n",
       "<p>5 rows × 25 columns</p>\n",
       "</div>"
      ],
      "text/plain": [
       "      BeneID         DOB  DOD  Gender  Race RenalDiseaseIndicator  State  \\\n",
       "0  BENE11001  1943-01-01  NaN       1     1                     0     39   \n",
       "1  BENE11002  1936-09-01  NaN       2     1                     0     39   \n",
       "2  BENE11003  1936-08-01  NaN       1     1                     0     52   \n",
       "3  BENE11004  1922-07-01  NaN       1     1                     0     39   \n",
       "4  BENE11005  1935-09-01  NaN       1     1                     0     24   \n",
       "\n",
       "   County  NoOfMonths_PartACov  NoOfMonths_PartBCov  ...  \\\n",
       "0     230                   12                   12  ...   \n",
       "1     280                   12                   12  ...   \n",
       "2     590                   12                   12  ...   \n",
       "3     270                   12                   12  ...   \n",
       "4     680                   12                   12  ...   \n",
       "\n",
       "   ChronicCond_Depression  ChronicCond_Diabetes  ChronicCond_IschemicHeart  \\\n",
       "0                       1                     1                          1   \n",
       "1                       2                     2                          2   \n",
       "2                       2                     2                          1   \n",
       "3                       2                     1                          1   \n",
       "4                       2                     1                          2   \n",
       "\n",
       "   ChronicCond_Osteoporasis  ChronicCond_rheumatoidarthritis  \\\n",
       "0                         2                                1   \n",
       "1                         2                                2   \n",
       "2                         2                                2   \n",
       "3                         1                                1   \n",
       "4                         2                                2   \n",
       "\n",
       "   ChronicCond_stroke  IPAnnualReimbursementAmt  IPAnnualDeductibleAmt  \\\n",
       "0                   1                     36000                   3204   \n",
       "1                   2                         0                      0   \n",
       "2                   2                         0                      0   \n",
       "3                   2                         0                      0   \n",
       "4                   2                         0                      0   \n",
       "\n",
       "   OPAnnualReimbursementAmt  OPAnnualDeductibleAmt  \n",
       "0                        60                     70  \n",
       "1                        30                     50  \n",
       "2                        90                     40  \n",
       "3                      1810                    760  \n",
       "4                      1790                   1200  \n",
       "\n",
       "[5 rows x 25 columns]"
      ]
     },
     "execution_count": 4,
     "metadata": {},
     "output_type": "execute_result"
    }
   ],
   "source": [
    "beneficiary.head()"
   ]
  },
  {
   "cell_type": "code",
   "execution_count": 5,
   "id": "24bea5c2",
   "metadata": {},
   "outputs": [
    {
     "data": {
      "application/vnd.microsoft.datawrangler.viewer.v0+json": {
       "columns": [
        {
         "name": "index",
         "rawType": "int64",
         "type": "integer"
        },
        {
         "name": "BeneID",
         "rawType": "object",
         "type": "string"
        },
        {
         "name": "ClaimID",
         "rawType": "object",
         "type": "string"
        },
        {
         "name": "ClaimStartDt",
         "rawType": "object",
         "type": "string"
        },
        {
         "name": "ClaimEndDt",
         "rawType": "object",
         "type": "string"
        },
        {
         "name": "Provider",
         "rawType": "object",
         "type": "string"
        },
        {
         "name": "InscClaimAmtReimbursed",
         "rawType": "int64",
         "type": "integer"
        },
        {
         "name": "AttendingPhysician",
         "rawType": "object",
         "type": "string"
        },
        {
         "name": "OperatingPhysician",
         "rawType": "object",
         "type": "unknown"
        },
        {
         "name": "OtherPhysician",
         "rawType": "object",
         "type": "unknown"
        },
        {
         "name": "AdmissionDt",
         "rawType": "object",
         "type": "string"
        },
        {
         "name": "ClmAdmitDiagnosisCode",
         "rawType": "object",
         "type": "string"
        },
        {
         "name": "DeductibleAmtPaid",
         "rawType": "float64",
         "type": "float"
        },
        {
         "name": "DischargeDt",
         "rawType": "object",
         "type": "string"
        },
        {
         "name": "DiagnosisGroupCode",
         "rawType": "object",
         "type": "string"
        },
        {
         "name": "ClmDiagnosisCode_1",
         "rawType": "object",
         "type": "string"
        },
        {
         "name": "ClmDiagnosisCode_2",
         "rawType": "object",
         "type": "string"
        },
        {
         "name": "ClmDiagnosisCode_3",
         "rawType": "object",
         "type": "string"
        },
        {
         "name": "ClmDiagnosisCode_4",
         "rawType": "object",
         "type": "unknown"
        },
        {
         "name": "ClmDiagnosisCode_5",
         "rawType": "object",
         "type": "unknown"
        },
        {
         "name": "ClmDiagnosisCode_6",
         "rawType": "object",
         "type": "unknown"
        },
        {
         "name": "ClmDiagnosisCode_7",
         "rawType": "object",
         "type": "unknown"
        },
        {
         "name": "ClmDiagnosisCode_8",
         "rawType": "object",
         "type": "unknown"
        },
        {
         "name": "ClmDiagnosisCode_9",
         "rawType": "object",
         "type": "unknown"
        },
        {
         "name": "ClmDiagnosisCode_10",
         "rawType": "object",
         "type": "unknown"
        },
        {
         "name": "ClmProcedureCode_1",
         "rawType": "float64",
         "type": "float"
        },
        {
         "name": "ClmProcedureCode_2",
         "rawType": "float64",
         "type": "float"
        },
        {
         "name": "ClmProcedureCode_3",
         "rawType": "float64",
         "type": "float"
        },
        {
         "name": "ClmProcedureCode_4",
         "rawType": "float64",
         "type": "float"
        },
        {
         "name": "ClmProcedureCode_5",
         "rawType": "float64",
         "type": "float"
        },
        {
         "name": "ClmProcedureCode_6",
         "rawType": "float64",
         "type": "float"
        }
       ],
       "ref": "892662a4-3538-4db0-86aa-8b2daf784818",
       "rows": [
        [
         "0",
         "BENE11001",
         "CLM46614",
         "2009-04-12",
         "2009-04-18",
         "PRV55912",
         "26000",
         "PHY390922",
         null,
         null,
         "2009-04-12",
         "7866",
         "1068.0",
         "2009-04-18",
         "201",
         "1970",
         "4019",
         "5853",
         "7843",
         "2768",
         "71590",
         "2724",
         "19889",
         "5849",
         null,
         null,
         null,
         null,
         null,
         null,
         null
        ],
        [
         "1",
         "BENE11001",
         "CLM66048",
         "2009-08-31",
         "2009-09-02",
         "PRV55907",
         "5000",
         "PHY318495",
         "PHY318495",
         null,
         "2009-08-31",
         "6186",
         "1068.0",
         "2009-09-02",
         "750",
         "6186",
         "2948",
         "56400",
         null,
         null,
         null,
         null,
         null,
         null,
         null,
         "7092.0",
         null,
         null,
         null,
         null,
         null
        ],
        [
         "2",
         "BENE11001",
         "CLM68358",
         "2009-09-17",
         "2009-09-20",
         "PRV56046",
         "5000",
         "PHY372395",
         null,
         "PHY324689",
         "2009-09-17",
         "29590",
         "1068.0",
         "2009-09-20",
         "883",
         "29623",
         "30390",
         "71690",
         "34590",
         "V1581",
         "32723",
         null,
         null,
         null,
         null,
         null,
         null,
         null,
         null,
         null,
         null
        ],
        [
         "3",
         "BENE11011",
         "CLM38412",
         "2009-02-14",
         "2009-02-22",
         "PRV52405",
         "5000",
         "PHY369659",
         "PHY392961",
         "PHY349768",
         "2009-02-14",
         "431",
         "1068.0",
         "2009-02-22",
         "067",
         "43491",
         "2762",
         "7843",
         "32723",
         "V1041",
         "4254",
         "25062",
         "40390",
         "4019",
         null,
         "331.0",
         null,
         null,
         null,
         null,
         null
        ],
        [
         "4",
         "BENE11014",
         "CLM63689",
         "2009-08-13",
         "2009-08-30",
         "PRV56614",
         "10000",
         "PHY379376",
         "PHY398258",
         null,
         "2009-08-13",
         "78321",
         "1068.0",
         "2009-08-30",
         "975",
         "042",
         "3051",
         "34400",
         "5856",
         "42732",
         "486",
         "5119",
         "29620",
         "20300",
         null,
         "3893.0",
         null,
         null,
         null,
         null,
         null
        ]
       ],
       "shape": {
        "columns": 30,
        "rows": 5
       }
      },
      "text/html": [
       "<div>\n",
       "<style scoped>\n",
       "    .dataframe tbody tr th:only-of-type {\n",
       "        vertical-align: middle;\n",
       "    }\n",
       "\n",
       "    .dataframe tbody tr th {\n",
       "        vertical-align: top;\n",
       "    }\n",
       "\n",
       "    .dataframe thead th {\n",
       "        text-align: right;\n",
       "    }\n",
       "</style>\n",
       "<table border=\"1\" class=\"dataframe\">\n",
       "  <thead>\n",
       "    <tr style=\"text-align: right;\">\n",
       "      <th></th>\n",
       "      <th>BeneID</th>\n",
       "      <th>ClaimID</th>\n",
       "      <th>ClaimStartDt</th>\n",
       "      <th>ClaimEndDt</th>\n",
       "      <th>Provider</th>\n",
       "      <th>InscClaimAmtReimbursed</th>\n",
       "      <th>AttendingPhysician</th>\n",
       "      <th>OperatingPhysician</th>\n",
       "      <th>OtherPhysician</th>\n",
       "      <th>AdmissionDt</th>\n",
       "      <th>...</th>\n",
       "      <th>ClmDiagnosisCode_7</th>\n",
       "      <th>ClmDiagnosisCode_8</th>\n",
       "      <th>ClmDiagnosisCode_9</th>\n",
       "      <th>ClmDiagnosisCode_10</th>\n",
       "      <th>ClmProcedureCode_1</th>\n",
       "      <th>ClmProcedureCode_2</th>\n",
       "      <th>ClmProcedureCode_3</th>\n",
       "      <th>ClmProcedureCode_4</th>\n",
       "      <th>ClmProcedureCode_5</th>\n",
       "      <th>ClmProcedureCode_6</th>\n",
       "    </tr>\n",
       "  </thead>\n",
       "  <tbody>\n",
       "    <tr>\n",
       "      <th>0</th>\n",
       "      <td>BENE11001</td>\n",
       "      <td>CLM46614</td>\n",
       "      <td>2009-04-12</td>\n",
       "      <td>2009-04-18</td>\n",
       "      <td>PRV55912</td>\n",
       "      <td>26000</td>\n",
       "      <td>PHY390922</td>\n",
       "      <td>NaN</td>\n",
       "      <td>NaN</td>\n",
       "      <td>2009-04-12</td>\n",
       "      <td>...</td>\n",
       "      <td>2724</td>\n",
       "      <td>19889</td>\n",
       "      <td>5849</td>\n",
       "      <td>NaN</td>\n",
       "      <td>NaN</td>\n",
       "      <td>NaN</td>\n",
       "      <td>NaN</td>\n",
       "      <td>NaN</td>\n",
       "      <td>NaN</td>\n",
       "      <td>NaN</td>\n",
       "    </tr>\n",
       "    <tr>\n",
       "      <th>1</th>\n",
       "      <td>BENE11001</td>\n",
       "      <td>CLM66048</td>\n",
       "      <td>2009-08-31</td>\n",
       "      <td>2009-09-02</td>\n",
       "      <td>PRV55907</td>\n",
       "      <td>5000</td>\n",
       "      <td>PHY318495</td>\n",
       "      <td>PHY318495</td>\n",
       "      <td>NaN</td>\n",
       "      <td>2009-08-31</td>\n",
       "      <td>...</td>\n",
       "      <td>NaN</td>\n",
       "      <td>NaN</td>\n",
       "      <td>NaN</td>\n",
       "      <td>NaN</td>\n",
       "      <td>7092.0</td>\n",
       "      <td>NaN</td>\n",
       "      <td>NaN</td>\n",
       "      <td>NaN</td>\n",
       "      <td>NaN</td>\n",
       "      <td>NaN</td>\n",
       "    </tr>\n",
       "    <tr>\n",
       "      <th>2</th>\n",
       "      <td>BENE11001</td>\n",
       "      <td>CLM68358</td>\n",
       "      <td>2009-09-17</td>\n",
       "      <td>2009-09-20</td>\n",
       "      <td>PRV56046</td>\n",
       "      <td>5000</td>\n",
       "      <td>PHY372395</td>\n",
       "      <td>NaN</td>\n",
       "      <td>PHY324689</td>\n",
       "      <td>2009-09-17</td>\n",
       "      <td>...</td>\n",
       "      <td>NaN</td>\n",
       "      <td>NaN</td>\n",
       "      <td>NaN</td>\n",
       "      <td>NaN</td>\n",
       "      <td>NaN</td>\n",
       "      <td>NaN</td>\n",
       "      <td>NaN</td>\n",
       "      <td>NaN</td>\n",
       "      <td>NaN</td>\n",
       "      <td>NaN</td>\n",
       "    </tr>\n",
       "    <tr>\n",
       "      <th>3</th>\n",
       "      <td>BENE11011</td>\n",
       "      <td>CLM38412</td>\n",
       "      <td>2009-02-14</td>\n",
       "      <td>2009-02-22</td>\n",
       "      <td>PRV52405</td>\n",
       "      <td>5000</td>\n",
       "      <td>PHY369659</td>\n",
       "      <td>PHY392961</td>\n",
       "      <td>PHY349768</td>\n",
       "      <td>2009-02-14</td>\n",
       "      <td>...</td>\n",
       "      <td>25062</td>\n",
       "      <td>40390</td>\n",
       "      <td>4019</td>\n",
       "      <td>NaN</td>\n",
       "      <td>331.0</td>\n",
       "      <td>NaN</td>\n",
       "      <td>NaN</td>\n",
       "      <td>NaN</td>\n",
       "      <td>NaN</td>\n",
       "      <td>NaN</td>\n",
       "    </tr>\n",
       "    <tr>\n",
       "      <th>4</th>\n",
       "      <td>BENE11014</td>\n",
       "      <td>CLM63689</td>\n",
       "      <td>2009-08-13</td>\n",
       "      <td>2009-08-30</td>\n",
       "      <td>PRV56614</td>\n",
       "      <td>10000</td>\n",
       "      <td>PHY379376</td>\n",
       "      <td>PHY398258</td>\n",
       "      <td>NaN</td>\n",
       "      <td>2009-08-13</td>\n",
       "      <td>...</td>\n",
       "      <td>5119</td>\n",
       "      <td>29620</td>\n",
       "      <td>20300</td>\n",
       "      <td>NaN</td>\n",
       "      <td>3893.0</td>\n",
       "      <td>NaN</td>\n",
       "      <td>NaN</td>\n",
       "      <td>NaN</td>\n",
       "      <td>NaN</td>\n",
       "      <td>NaN</td>\n",
       "    </tr>\n",
       "  </tbody>\n",
       "</table>\n",
       "<p>5 rows × 30 columns</p>\n",
       "</div>"
      ],
      "text/plain": [
       "      BeneID   ClaimID ClaimStartDt  ClaimEndDt  Provider  \\\n",
       "0  BENE11001  CLM46614   2009-04-12  2009-04-18  PRV55912   \n",
       "1  BENE11001  CLM66048   2009-08-31  2009-09-02  PRV55907   \n",
       "2  BENE11001  CLM68358   2009-09-17  2009-09-20  PRV56046   \n",
       "3  BENE11011  CLM38412   2009-02-14  2009-02-22  PRV52405   \n",
       "4  BENE11014  CLM63689   2009-08-13  2009-08-30  PRV56614   \n",
       "\n",
       "   InscClaimAmtReimbursed AttendingPhysician OperatingPhysician  \\\n",
       "0                   26000          PHY390922                NaN   \n",
       "1                    5000          PHY318495          PHY318495   \n",
       "2                    5000          PHY372395                NaN   \n",
       "3                    5000          PHY369659          PHY392961   \n",
       "4                   10000          PHY379376          PHY398258   \n",
       "\n",
       "  OtherPhysician AdmissionDt  ... ClmDiagnosisCode_7  ClmDiagnosisCode_8  \\\n",
       "0            NaN  2009-04-12  ...               2724               19889   \n",
       "1            NaN  2009-08-31  ...                NaN                 NaN   \n",
       "2      PHY324689  2009-09-17  ...                NaN                 NaN   \n",
       "3      PHY349768  2009-02-14  ...              25062               40390   \n",
       "4            NaN  2009-08-13  ...               5119               29620   \n",
       "\n",
       "  ClmDiagnosisCode_9 ClmDiagnosisCode_10 ClmProcedureCode_1  \\\n",
       "0               5849                 NaN                NaN   \n",
       "1                NaN                 NaN             7092.0   \n",
       "2                NaN                 NaN                NaN   \n",
       "3               4019                 NaN              331.0   \n",
       "4              20300                 NaN             3893.0   \n",
       "\n",
       "  ClmProcedureCode_2 ClmProcedureCode_3 ClmProcedureCode_4 ClmProcedureCode_5  \\\n",
       "0                NaN                NaN                NaN                NaN   \n",
       "1                NaN                NaN                NaN                NaN   \n",
       "2                NaN                NaN                NaN                NaN   \n",
       "3                NaN                NaN                NaN                NaN   \n",
       "4                NaN                NaN                NaN                NaN   \n",
       "\n",
       "  ClmProcedureCode_6  \n",
       "0                NaN  \n",
       "1                NaN  \n",
       "2                NaN  \n",
       "3                NaN  \n",
       "4                NaN  \n",
       "\n",
       "[5 rows x 30 columns]"
      ]
     },
     "execution_count": 5,
     "metadata": {},
     "output_type": "execute_result"
    }
   ],
   "source": [
    "inpatient.head()"
   ]
  },
  {
   "cell_type": "code",
   "execution_count": 6,
   "id": "a23f13ac",
   "metadata": {},
   "outputs": [
    {
     "data": {
      "application/vnd.microsoft.datawrangler.viewer.v0+json": {
       "columns": [
        {
         "name": "index",
         "rawType": "int64",
         "type": "integer"
        },
        {
         "name": "BeneID",
         "rawType": "object",
         "type": "string"
        },
        {
         "name": "ClaimID",
         "rawType": "object",
         "type": "string"
        },
        {
         "name": "ClaimStartDt",
         "rawType": "object",
         "type": "string"
        },
        {
         "name": "ClaimEndDt",
         "rawType": "object",
         "type": "string"
        },
        {
         "name": "Provider",
         "rawType": "object",
         "type": "string"
        },
        {
         "name": "InscClaimAmtReimbursed",
         "rawType": "int64",
         "type": "integer"
        },
        {
         "name": "AttendingPhysician",
         "rawType": "object",
         "type": "string"
        },
        {
         "name": "OperatingPhysician",
         "rawType": "object",
         "type": "unknown"
        },
        {
         "name": "OtherPhysician",
         "rawType": "object",
         "type": "unknown"
        },
        {
         "name": "ClmDiagnosisCode_1",
         "rawType": "object",
         "type": "string"
        },
        {
         "name": "ClmDiagnosisCode_2",
         "rawType": "object",
         "type": "unknown"
        },
        {
         "name": "ClmDiagnosisCode_3",
         "rawType": "object",
         "type": "unknown"
        },
        {
         "name": "ClmDiagnosisCode_4",
         "rawType": "object",
         "type": "unknown"
        },
        {
         "name": "ClmDiagnosisCode_5",
         "rawType": "object",
         "type": "unknown"
        },
        {
         "name": "ClmDiagnosisCode_6",
         "rawType": "object",
         "type": "unknown"
        },
        {
         "name": "ClmDiagnosisCode_7",
         "rawType": "object",
         "type": "unknown"
        },
        {
         "name": "ClmDiagnosisCode_8",
         "rawType": "object",
         "type": "unknown"
        },
        {
         "name": "ClmDiagnosisCode_9",
         "rawType": "object",
         "type": "unknown"
        },
        {
         "name": "ClmDiagnosisCode_10",
         "rawType": "object",
         "type": "unknown"
        },
        {
         "name": "ClmProcedureCode_1",
         "rawType": "float64",
         "type": "float"
        },
        {
         "name": "ClmProcedureCode_2",
         "rawType": "float64",
         "type": "float"
        },
        {
         "name": "ClmProcedureCode_3",
         "rawType": "float64",
         "type": "float"
        },
        {
         "name": "ClmProcedureCode_4",
         "rawType": "float64",
         "type": "float"
        },
        {
         "name": "ClmProcedureCode_5",
         "rawType": "float64",
         "type": "float"
        },
        {
         "name": "ClmProcedureCode_6",
         "rawType": "float64",
         "type": "float"
        },
        {
         "name": "DeductibleAmtPaid",
         "rawType": "int64",
         "type": "integer"
        },
        {
         "name": "ClmAdmitDiagnosisCode",
         "rawType": "object",
         "type": "unknown"
        }
       ],
       "ref": "23b4139f-2c0c-450b-b0ce-3ab620d917cd",
       "rows": [
        [
         "0",
         "BENE11002",
         "CLM624349",
         "2009-10-11",
         "2009-10-11",
         "PRV56011",
         "30",
         "PHY326117",
         null,
         null,
         "78943",
         "V5866",
         "V1272",
         null,
         null,
         null,
         null,
         null,
         null,
         null,
         null,
         null,
         null,
         null,
         null,
         null,
         "0",
         "56409"
        ],
        [
         "1",
         "BENE11003",
         "CLM189947",
         "2009-02-12",
         "2009-02-12",
         "PRV57610",
         "80",
         "PHY362868",
         null,
         null,
         "6115",
         null,
         null,
         null,
         null,
         null,
         null,
         null,
         null,
         null,
         null,
         null,
         null,
         null,
         null,
         null,
         "0",
         "79380"
        ],
        [
         "2",
         "BENE11003",
         "CLM438021",
         "2009-06-27",
         "2009-06-27",
         "PRV57595",
         "10",
         "PHY328821",
         null,
         null,
         "2723",
         null,
         null,
         null,
         null,
         null,
         null,
         null,
         null,
         null,
         null,
         null,
         null,
         null,
         null,
         null,
         "0",
         null
        ],
        [
         "3",
         "BENE11004",
         "CLM121801",
         "2009-01-06",
         "2009-01-06",
         "PRV56011",
         "40",
         "PHY334319",
         null,
         null,
         "71988",
         null,
         null,
         null,
         null,
         null,
         null,
         null,
         null,
         null,
         null,
         null,
         null,
         null,
         null,
         null,
         "0",
         null
        ],
        [
         "4",
         "BENE11004",
         "CLM150998",
         "2009-01-22",
         "2009-01-22",
         "PRV56011",
         "200",
         "PHY403831",
         null,
         null,
         "82382",
         "30000",
         "72887",
         "4280",
         "7197",
         "V4577",
         null,
         null,
         null,
         null,
         null,
         null,
         null,
         null,
         null,
         null,
         "0",
         "71947"
        ]
       ],
       "shape": {
        "columns": 27,
        "rows": 5
       }
      },
      "text/html": [
       "<div>\n",
       "<style scoped>\n",
       "    .dataframe tbody tr th:only-of-type {\n",
       "        vertical-align: middle;\n",
       "    }\n",
       "\n",
       "    .dataframe tbody tr th {\n",
       "        vertical-align: top;\n",
       "    }\n",
       "\n",
       "    .dataframe thead th {\n",
       "        text-align: right;\n",
       "    }\n",
       "</style>\n",
       "<table border=\"1\" class=\"dataframe\">\n",
       "  <thead>\n",
       "    <tr style=\"text-align: right;\">\n",
       "      <th></th>\n",
       "      <th>BeneID</th>\n",
       "      <th>ClaimID</th>\n",
       "      <th>ClaimStartDt</th>\n",
       "      <th>ClaimEndDt</th>\n",
       "      <th>Provider</th>\n",
       "      <th>InscClaimAmtReimbursed</th>\n",
       "      <th>AttendingPhysician</th>\n",
       "      <th>OperatingPhysician</th>\n",
       "      <th>OtherPhysician</th>\n",
       "      <th>ClmDiagnosisCode_1</th>\n",
       "      <th>...</th>\n",
       "      <th>ClmDiagnosisCode_9</th>\n",
       "      <th>ClmDiagnosisCode_10</th>\n",
       "      <th>ClmProcedureCode_1</th>\n",
       "      <th>ClmProcedureCode_2</th>\n",
       "      <th>ClmProcedureCode_3</th>\n",
       "      <th>ClmProcedureCode_4</th>\n",
       "      <th>ClmProcedureCode_5</th>\n",
       "      <th>ClmProcedureCode_6</th>\n",
       "      <th>DeductibleAmtPaid</th>\n",
       "      <th>ClmAdmitDiagnosisCode</th>\n",
       "    </tr>\n",
       "  </thead>\n",
       "  <tbody>\n",
       "    <tr>\n",
       "      <th>0</th>\n",
       "      <td>BENE11002</td>\n",
       "      <td>CLM624349</td>\n",
       "      <td>2009-10-11</td>\n",
       "      <td>2009-10-11</td>\n",
       "      <td>PRV56011</td>\n",
       "      <td>30</td>\n",
       "      <td>PHY326117</td>\n",
       "      <td>NaN</td>\n",
       "      <td>NaN</td>\n",
       "      <td>78943</td>\n",
       "      <td>...</td>\n",
       "      <td>NaN</td>\n",
       "      <td>NaN</td>\n",
       "      <td>NaN</td>\n",
       "      <td>NaN</td>\n",
       "      <td>NaN</td>\n",
       "      <td>NaN</td>\n",
       "      <td>NaN</td>\n",
       "      <td>NaN</td>\n",
       "      <td>0</td>\n",
       "      <td>56409</td>\n",
       "    </tr>\n",
       "    <tr>\n",
       "      <th>1</th>\n",
       "      <td>BENE11003</td>\n",
       "      <td>CLM189947</td>\n",
       "      <td>2009-02-12</td>\n",
       "      <td>2009-02-12</td>\n",
       "      <td>PRV57610</td>\n",
       "      <td>80</td>\n",
       "      <td>PHY362868</td>\n",
       "      <td>NaN</td>\n",
       "      <td>NaN</td>\n",
       "      <td>6115</td>\n",
       "      <td>...</td>\n",
       "      <td>NaN</td>\n",
       "      <td>NaN</td>\n",
       "      <td>NaN</td>\n",
       "      <td>NaN</td>\n",
       "      <td>NaN</td>\n",
       "      <td>NaN</td>\n",
       "      <td>NaN</td>\n",
       "      <td>NaN</td>\n",
       "      <td>0</td>\n",
       "      <td>79380</td>\n",
       "    </tr>\n",
       "    <tr>\n",
       "      <th>2</th>\n",
       "      <td>BENE11003</td>\n",
       "      <td>CLM438021</td>\n",
       "      <td>2009-06-27</td>\n",
       "      <td>2009-06-27</td>\n",
       "      <td>PRV57595</td>\n",
       "      <td>10</td>\n",
       "      <td>PHY328821</td>\n",
       "      <td>NaN</td>\n",
       "      <td>NaN</td>\n",
       "      <td>2723</td>\n",
       "      <td>...</td>\n",
       "      <td>NaN</td>\n",
       "      <td>NaN</td>\n",
       "      <td>NaN</td>\n",
       "      <td>NaN</td>\n",
       "      <td>NaN</td>\n",
       "      <td>NaN</td>\n",
       "      <td>NaN</td>\n",
       "      <td>NaN</td>\n",
       "      <td>0</td>\n",
       "      <td>NaN</td>\n",
       "    </tr>\n",
       "    <tr>\n",
       "      <th>3</th>\n",
       "      <td>BENE11004</td>\n",
       "      <td>CLM121801</td>\n",
       "      <td>2009-01-06</td>\n",
       "      <td>2009-01-06</td>\n",
       "      <td>PRV56011</td>\n",
       "      <td>40</td>\n",
       "      <td>PHY334319</td>\n",
       "      <td>NaN</td>\n",
       "      <td>NaN</td>\n",
       "      <td>71988</td>\n",
       "      <td>...</td>\n",
       "      <td>NaN</td>\n",
       "      <td>NaN</td>\n",
       "      <td>NaN</td>\n",
       "      <td>NaN</td>\n",
       "      <td>NaN</td>\n",
       "      <td>NaN</td>\n",
       "      <td>NaN</td>\n",
       "      <td>NaN</td>\n",
       "      <td>0</td>\n",
       "      <td>NaN</td>\n",
       "    </tr>\n",
       "    <tr>\n",
       "      <th>4</th>\n",
       "      <td>BENE11004</td>\n",
       "      <td>CLM150998</td>\n",
       "      <td>2009-01-22</td>\n",
       "      <td>2009-01-22</td>\n",
       "      <td>PRV56011</td>\n",
       "      <td>200</td>\n",
       "      <td>PHY403831</td>\n",
       "      <td>NaN</td>\n",
       "      <td>NaN</td>\n",
       "      <td>82382</td>\n",
       "      <td>...</td>\n",
       "      <td>NaN</td>\n",
       "      <td>NaN</td>\n",
       "      <td>NaN</td>\n",
       "      <td>NaN</td>\n",
       "      <td>NaN</td>\n",
       "      <td>NaN</td>\n",
       "      <td>NaN</td>\n",
       "      <td>NaN</td>\n",
       "      <td>0</td>\n",
       "      <td>71947</td>\n",
       "    </tr>\n",
       "  </tbody>\n",
       "</table>\n",
       "<p>5 rows × 27 columns</p>\n",
       "</div>"
      ],
      "text/plain": [
       "      BeneID    ClaimID ClaimStartDt  ClaimEndDt  Provider  \\\n",
       "0  BENE11002  CLM624349   2009-10-11  2009-10-11  PRV56011   \n",
       "1  BENE11003  CLM189947   2009-02-12  2009-02-12  PRV57610   \n",
       "2  BENE11003  CLM438021   2009-06-27  2009-06-27  PRV57595   \n",
       "3  BENE11004  CLM121801   2009-01-06  2009-01-06  PRV56011   \n",
       "4  BENE11004  CLM150998   2009-01-22  2009-01-22  PRV56011   \n",
       "\n",
       "   InscClaimAmtReimbursed AttendingPhysician OperatingPhysician  \\\n",
       "0                      30          PHY326117                NaN   \n",
       "1                      80          PHY362868                NaN   \n",
       "2                      10          PHY328821                NaN   \n",
       "3                      40          PHY334319                NaN   \n",
       "4                     200          PHY403831                NaN   \n",
       "\n",
       "  OtherPhysician ClmDiagnosisCode_1  ... ClmDiagnosisCode_9  \\\n",
       "0            NaN              78943  ...                NaN   \n",
       "1            NaN               6115  ...                NaN   \n",
       "2            NaN               2723  ...                NaN   \n",
       "3            NaN              71988  ...                NaN   \n",
       "4            NaN              82382  ...                NaN   \n",
       "\n",
       "  ClmDiagnosisCode_10 ClmProcedureCode_1 ClmProcedureCode_2  \\\n",
       "0                 NaN                NaN                NaN   \n",
       "1                 NaN                NaN                NaN   \n",
       "2                 NaN                NaN                NaN   \n",
       "3                 NaN                NaN                NaN   \n",
       "4                 NaN                NaN                NaN   \n",
       "\n",
       "  ClmProcedureCode_3 ClmProcedureCode_4 ClmProcedureCode_5 ClmProcedureCode_6  \\\n",
       "0                NaN                NaN                NaN                NaN   \n",
       "1                NaN                NaN                NaN                NaN   \n",
       "2                NaN                NaN                NaN                NaN   \n",
       "3                NaN                NaN                NaN                NaN   \n",
       "4                NaN                NaN                NaN                NaN   \n",
       "\n",
       "  DeductibleAmtPaid  ClmAdmitDiagnosisCode  \n",
       "0                 0                  56409  \n",
       "1                 0                  79380  \n",
       "2                 0                    NaN  \n",
       "3                 0                    NaN  \n",
       "4                 0                  71947  \n",
       "\n",
       "[5 rows x 27 columns]"
      ]
     },
     "execution_count": 6,
     "metadata": {},
     "output_type": "execute_result"
    }
   ],
   "source": [
    "outpatient.head()"
   ]
  },
  {
   "cell_type": "markdown",
   "id": "bd4d3bb3",
   "metadata": {},
   "source": [
    "## Feature engineering"
   ]
  },
  {
   "cell_type": "markdown",
   "id": "f8e87565",
   "metadata": {},
   "source": [
    "The labels are available for providers. These nodes do not have any features, so we will calculate the following features:\n",
    "* number of claims;\n",
    "* avg reembursed;\n",
    "* std reembursed;\n",
    "* number of claims per beneficiary.\n",
    "\n",
    "These summarise some key characteristics of the providers, that might help the algorithm uncover fraudulent behaviour. "
   ]
  },
  {
   "cell_type": "code",
   "execution_count": 7,
   "id": "1fbb1f4a",
   "metadata": {},
   "outputs": [
    {
     "data": {
      "application/vnd.microsoft.datawrangler.viewer.v0+json": {
       "columns": [
        {
         "name": "index",
         "rawType": "int64",
         "type": "integer"
        },
        {
         "name": "Provider",
         "rawType": "object",
         "type": "string"
        },
        {
         "name": "BeneID",
         "rawType": "object",
         "type": "string"
        },
        {
         "name": "InscClaimAmtReimbursed",
         "rawType": "int64",
         "type": "integer"
        }
       ],
       "ref": "2f69424c-afb1-4ac8-a958-ec2563d5c1d4",
       "rows": [
        [
         "0",
         "PRV55912",
         "BENE11001",
         "26000"
        ],
        [
         "1",
         "PRV55907",
         "BENE11001",
         "5000"
        ],
        [
         "2",
         "PRV56046",
         "BENE11001",
         "5000"
        ],
        [
         "3",
         "PRV52405",
         "BENE11011",
         "5000"
        ],
        [
         "4",
         "PRV56614",
         "BENE11014",
         "10000"
        ]
       ],
       "shape": {
        "columns": 3,
        "rows": 5
       }
      },
      "text/html": [
       "<div>\n",
       "<style scoped>\n",
       "    .dataframe tbody tr th:only-of-type {\n",
       "        vertical-align: middle;\n",
       "    }\n",
       "\n",
       "    .dataframe tbody tr th {\n",
       "        vertical-align: top;\n",
       "    }\n",
       "\n",
       "    .dataframe thead th {\n",
       "        text-align: right;\n",
       "    }\n",
       "</style>\n",
       "<table border=\"1\" class=\"dataframe\">\n",
       "  <thead>\n",
       "    <tr style=\"text-align: right;\">\n",
       "      <th></th>\n",
       "      <th>Provider</th>\n",
       "      <th>BeneID</th>\n",
       "      <th>InscClaimAmtReimbursed</th>\n",
       "    </tr>\n",
       "  </thead>\n",
       "  <tbody>\n",
       "    <tr>\n",
       "      <th>0</th>\n",
       "      <td>PRV55912</td>\n",
       "      <td>BENE11001</td>\n",
       "      <td>26000</td>\n",
       "    </tr>\n",
       "    <tr>\n",
       "      <th>1</th>\n",
       "      <td>PRV55907</td>\n",
       "      <td>BENE11001</td>\n",
       "      <td>5000</td>\n",
       "    </tr>\n",
       "    <tr>\n",
       "      <th>2</th>\n",
       "      <td>PRV56046</td>\n",
       "      <td>BENE11001</td>\n",
       "      <td>5000</td>\n",
       "    </tr>\n",
       "    <tr>\n",
       "      <th>3</th>\n",
       "      <td>PRV52405</td>\n",
       "      <td>BENE11011</td>\n",
       "      <td>5000</td>\n",
       "    </tr>\n",
       "    <tr>\n",
       "      <th>4</th>\n",
       "      <td>PRV56614</td>\n",
       "      <td>BENE11014</td>\n",
       "      <td>10000</td>\n",
       "    </tr>\n",
       "  </tbody>\n",
       "</table>\n",
       "</div>"
      ],
      "text/plain": [
       "   Provider     BeneID  InscClaimAmtReimbursed\n",
       "0  PRV55912  BENE11001                   26000\n",
       "1  PRV55907  BENE11001                    5000\n",
       "2  PRV56046  BENE11001                    5000\n",
       "3  PRV52405  BENE11011                    5000\n",
       "4  PRV56614  BENE11014                   10000"
      ]
     },
     "execution_count": 7,
     "metadata": {},
     "output_type": "execute_result"
    }
   ],
   "source": [
    "columns_to_select = ['Provider', 'BeneID', 'InscClaimAmtReimbursed']\n",
    "edges = pd.concat([inpatient[columns_to_select], outpatient[columns_to_select]])\n",
    "edges.head()"
   ]
  },
  {
   "cell_type": "code",
   "execution_count": 8,
   "id": "cab29a5c",
   "metadata": {},
   "outputs": [
    {
     "data": {
      "application/vnd.microsoft.datawrangler.viewer.v0+json": {
       "columns": [
        {
         "name": "Target",
         "rawType": "object",
         "type": "string"
        },
        {
         "name": "number_of_claims",
         "rawType": "int64",
         "type": "integer"
        },
        {
         "name": "average_claims",
         "rawType": "float64",
         "type": "float"
        },
        {
         "name": "std_claims",
         "rawType": "float64",
         "type": "float"
        },
        {
         "name": "number_of_beneficiaries",
         "rawType": "int64",
         "type": "integer"
        }
       ],
       "ref": "bc88f764-1c3f-4498-a411-a24bc26dbd5f",
       "rows": [
        [
         "PRV51001",
         "25",
         "4185.6",
         "10796.09114448373",
         "24"
        ],
        [
         "PRV51003",
         "132",
         "4588.409090909091",
         "7309.79472874617",
         "117"
        ],
        [
         "PRV51004",
         "149",
         "350.13422818791946",
         "689.9637540197715",
         "138"
        ],
        [
         "PRV51005",
         "1165",
         "241.1244635193133",
         "491.556391867259",
         "495"
        ],
        [
         "PRV51007",
         "72",
         "468.19444444444446",
         "1433.769115705803",
         "58"
        ]
       ],
       "shape": {
        "columns": 4,
        "rows": 5
       }
      },
      "text/html": [
       "<div>\n",
       "<style scoped>\n",
       "    .dataframe tbody tr th:only-of-type {\n",
       "        vertical-align: middle;\n",
       "    }\n",
       "\n",
       "    .dataframe tbody tr th {\n",
       "        vertical-align: top;\n",
       "    }\n",
       "\n",
       "    .dataframe thead th {\n",
       "        text-align: right;\n",
       "    }\n",
       "</style>\n",
       "<table border=\"1\" class=\"dataframe\">\n",
       "  <thead>\n",
       "    <tr style=\"text-align: right;\">\n",
       "      <th></th>\n",
       "      <th>number_of_claims</th>\n",
       "      <th>average_claims</th>\n",
       "      <th>std_claims</th>\n",
       "      <th>number_of_beneficiaries</th>\n",
       "    </tr>\n",
       "    <tr>\n",
       "      <th>Target</th>\n",
       "      <th></th>\n",
       "      <th></th>\n",
       "      <th></th>\n",
       "      <th></th>\n",
       "    </tr>\n",
       "  </thead>\n",
       "  <tbody>\n",
       "    <tr>\n",
       "      <th>PRV51001</th>\n",
       "      <td>25</td>\n",
       "      <td>4185.600000</td>\n",
       "      <td>10796.091144</td>\n",
       "      <td>24</td>\n",
       "    </tr>\n",
       "    <tr>\n",
       "      <th>PRV51003</th>\n",
       "      <td>132</td>\n",
       "      <td>4588.409091</td>\n",
       "      <td>7309.794729</td>\n",
       "      <td>117</td>\n",
       "    </tr>\n",
       "    <tr>\n",
       "      <th>PRV51004</th>\n",
       "      <td>149</td>\n",
       "      <td>350.134228</td>\n",
       "      <td>689.963754</td>\n",
       "      <td>138</td>\n",
       "    </tr>\n",
       "    <tr>\n",
       "      <th>PRV51005</th>\n",
       "      <td>1165</td>\n",
       "      <td>241.124464</td>\n",
       "      <td>491.556392</td>\n",
       "      <td>495</td>\n",
       "    </tr>\n",
       "    <tr>\n",
       "      <th>PRV51007</th>\n",
       "      <td>72</td>\n",
       "      <td>468.194444</td>\n",
       "      <td>1433.769116</td>\n",
       "      <td>58</td>\n",
       "    </tr>\n",
       "  </tbody>\n",
       "</table>\n",
       "</div>"
      ],
      "text/plain": [
       "          number_of_claims  average_claims    std_claims  \\\n",
       "Target                                                     \n",
       "PRV51001                25     4185.600000  10796.091144   \n",
       "PRV51003               132     4588.409091   7309.794729   \n",
       "PRV51004               149      350.134228    689.963754   \n",
       "PRV51005              1165      241.124464    491.556392   \n",
       "PRV51007                72      468.194444   1433.769116   \n",
       "\n",
       "          number_of_beneficiaries  \n",
       "Target                             \n",
       "PRV51001                       24  \n",
       "PRV51003                      117  \n",
       "PRV51004                      138  \n",
       "PRV51005                      495  \n",
       "PRV51007                       58  "
      ]
     },
     "execution_count": 8,
     "metadata": {},
     "output_type": "execute_result"
    }
   ],
   "source": [
    "number_of_claims = edges[['Provider', 'InscClaimAmtReimbursed']].groupby(['Provider']).count()\n",
    "number_of_claims.columns = ['number_of_claims']\n",
    "\n",
    "average_claims = edges[['Provider', 'InscClaimAmtReimbursed']].groupby(['Provider']).mean()\n",
    "average_claims.columns = ['average_claims']\n",
    "\n",
    "std_claims = edges[['Provider', 'InscClaimAmtReimbursed']].groupby(['Provider']).std()\n",
    "std_claims.columns = ['std_claims']\n",
    "\n",
    "number_of_beneficiaries = edges[['Provider', 'BeneID']].drop_duplicates().groupby(['Provider']).count()\n",
    "number_of_beneficiaries.columns = ['number_of_beneficiaries']\n",
    "\n",
    "provider_features = pd.concat([number_of_claims, average_claims, std_claims, number_of_beneficiaries], axis=1)\n",
    "provider_features.index.rename('Target', inplace=True)\n",
    "provider_features.head()\n"
   ]
  },
  {
   "cell_type": "code",
   "execution_count": 9,
   "id": "261988b9",
   "metadata": {},
   "outputs": [
    {
     "data": {
      "application/vnd.microsoft.datawrangler.viewer.v0+json": {
       "columns": [
        {
         "name": "BeneID",
         "rawType": "object",
         "type": "string"
        },
        {
         "name": "DOB",
         "rawType": "int64",
         "type": "integer"
        },
        {
         "name": "Gender",
         "rawType": "int64",
         "type": "integer"
        },
        {
         "name": "Race",
         "rawType": "int64",
         "type": "integer"
        },
        {
         "name": "RenalDiseaseIndicator",
         "rawType": "int64",
         "type": "integer"
        },
        {
         "name": "State",
         "rawType": "int64",
         "type": "integer"
        },
        {
         "name": "County",
         "rawType": "int64",
         "type": "integer"
        },
        {
         "name": "NoOfMonths_PartACov",
         "rawType": "int64",
         "type": "integer"
        },
        {
         "name": "NoOfMonths_PartBCov",
         "rawType": "int64",
         "type": "integer"
        },
        {
         "name": "ChronicCond_Alzheimer",
         "rawType": "int64",
         "type": "integer"
        },
        {
         "name": "ChronicCond_Heartfailure",
         "rawType": "int64",
         "type": "integer"
        },
        {
         "name": "ChronicCond_KidneyDisease",
         "rawType": "int64",
         "type": "integer"
        },
        {
         "name": "ChronicCond_Cancer",
         "rawType": "int64",
         "type": "integer"
        },
        {
         "name": "ChronicCond_ObstrPulmonary",
         "rawType": "int64",
         "type": "integer"
        },
        {
         "name": "ChronicCond_Depression",
         "rawType": "int64",
         "type": "integer"
        },
        {
         "name": "ChronicCond_Diabetes",
         "rawType": "int64",
         "type": "integer"
        },
        {
         "name": "ChronicCond_IschemicHeart",
         "rawType": "int64",
         "type": "integer"
        },
        {
         "name": "ChronicCond_Osteoporasis",
         "rawType": "int64",
         "type": "integer"
        },
        {
         "name": "ChronicCond_rheumatoidarthritis",
         "rawType": "int64",
         "type": "integer"
        },
        {
         "name": "ChronicCond_stroke",
         "rawType": "int64",
         "type": "integer"
        },
        {
         "name": "IPAnnualReimbursementAmt",
         "rawType": "int64",
         "type": "integer"
        },
        {
         "name": "IPAnnualDeductibleAmt",
         "rawType": "int64",
         "type": "integer"
        },
        {
         "name": "OPAnnualReimbursementAmt",
         "rawType": "int64",
         "type": "integer"
        },
        {
         "name": "OPAnnualDeductibleAmt",
         "rawType": "int64",
         "type": "integer"
        },
        {
         "name": "Deceased",
         "rawType": "int64",
         "type": "integer"
        }
       ],
       "ref": "18265f46-4669-4f01-9dad-6aff04c54c95",
       "rows": [
        [
         "BENE11001",
         "1943",
         "1",
         "1",
         "0",
         "39",
         "230",
         "12",
         "12",
         "1",
         "2",
         "1",
         "2",
         "2",
         "1",
         "1",
         "1",
         "2",
         "1",
         "1",
         "36000",
         "3204",
         "60",
         "70",
         "0"
        ],
        [
         "BENE11002",
         "1936",
         "2",
         "1",
         "0",
         "39",
         "280",
         "12",
         "12",
         "2",
         "2",
         "2",
         "2",
         "2",
         "2",
         "2",
         "2",
         "2",
         "2",
         "2",
         "0",
         "0",
         "30",
         "50",
         "0"
        ],
        [
         "BENE11003",
         "1936",
         "1",
         "1",
         "0",
         "52",
         "590",
         "12",
         "12",
         "1",
         "2",
         "2",
         "2",
         "2",
         "2",
         "2",
         "1",
         "2",
         "2",
         "2",
         "0",
         "0",
         "90",
         "40",
         "0"
        ],
        [
         "BENE11004",
         "1922",
         "1",
         "1",
         "0",
         "39",
         "270",
         "12",
         "12",
         "1",
         "1",
         "2",
         "2",
         "2",
         "2",
         "1",
         "1",
         "1",
         "1",
         "2",
         "0",
         "0",
         "1810",
         "760",
         "0"
        ],
        [
         "BENE11005",
         "1935",
         "1",
         "1",
         "0",
         "24",
         "680",
         "12",
         "12",
         "2",
         "2",
         "2",
         "2",
         "1",
         "2",
         "1",
         "2",
         "2",
         "2",
         "2",
         "0",
         "0",
         "1790",
         "1200",
         "0"
        ]
       ],
       "shape": {
        "columns": 24,
        "rows": 5
       }
      },
      "text/html": [
       "<div>\n",
       "<style scoped>\n",
       "    .dataframe tbody tr th:only-of-type {\n",
       "        vertical-align: middle;\n",
       "    }\n",
       "\n",
       "    .dataframe tbody tr th {\n",
       "        vertical-align: top;\n",
       "    }\n",
       "\n",
       "    .dataframe thead th {\n",
       "        text-align: right;\n",
       "    }\n",
       "</style>\n",
       "<table border=\"1\" class=\"dataframe\">\n",
       "  <thead>\n",
       "    <tr style=\"text-align: right;\">\n",
       "      <th></th>\n",
       "      <th>DOB</th>\n",
       "      <th>Gender</th>\n",
       "      <th>Race</th>\n",
       "      <th>RenalDiseaseIndicator</th>\n",
       "      <th>State</th>\n",
       "      <th>County</th>\n",
       "      <th>NoOfMonths_PartACov</th>\n",
       "      <th>NoOfMonths_PartBCov</th>\n",
       "      <th>ChronicCond_Alzheimer</th>\n",
       "      <th>ChronicCond_Heartfailure</th>\n",
       "      <th>...</th>\n",
       "      <th>ChronicCond_Diabetes</th>\n",
       "      <th>ChronicCond_IschemicHeart</th>\n",
       "      <th>ChronicCond_Osteoporasis</th>\n",
       "      <th>ChronicCond_rheumatoidarthritis</th>\n",
       "      <th>ChronicCond_stroke</th>\n",
       "      <th>IPAnnualReimbursementAmt</th>\n",
       "      <th>IPAnnualDeductibleAmt</th>\n",
       "      <th>OPAnnualReimbursementAmt</th>\n",
       "      <th>OPAnnualDeductibleAmt</th>\n",
       "      <th>Deceased</th>\n",
       "    </tr>\n",
       "    <tr>\n",
       "      <th>BeneID</th>\n",
       "      <th></th>\n",
       "      <th></th>\n",
       "      <th></th>\n",
       "      <th></th>\n",
       "      <th></th>\n",
       "      <th></th>\n",
       "      <th></th>\n",
       "      <th></th>\n",
       "      <th></th>\n",
       "      <th></th>\n",
       "      <th></th>\n",
       "      <th></th>\n",
       "      <th></th>\n",
       "      <th></th>\n",
       "      <th></th>\n",
       "      <th></th>\n",
       "      <th></th>\n",
       "      <th></th>\n",
       "      <th></th>\n",
       "      <th></th>\n",
       "      <th></th>\n",
       "    </tr>\n",
       "  </thead>\n",
       "  <tbody>\n",
       "    <tr>\n",
       "      <th>BENE11001</th>\n",
       "      <td>1943</td>\n",
       "      <td>1</td>\n",
       "      <td>1</td>\n",
       "      <td>0</td>\n",
       "      <td>39</td>\n",
       "      <td>230</td>\n",
       "      <td>12</td>\n",
       "      <td>12</td>\n",
       "      <td>1</td>\n",
       "      <td>2</td>\n",
       "      <td>...</td>\n",
       "      <td>1</td>\n",
       "      <td>1</td>\n",
       "      <td>2</td>\n",
       "      <td>1</td>\n",
       "      <td>1</td>\n",
       "      <td>36000</td>\n",
       "      <td>3204</td>\n",
       "      <td>60</td>\n",
       "      <td>70</td>\n",
       "      <td>0</td>\n",
       "    </tr>\n",
       "    <tr>\n",
       "      <th>BENE11002</th>\n",
       "      <td>1936</td>\n",
       "      <td>2</td>\n",
       "      <td>1</td>\n",
       "      <td>0</td>\n",
       "      <td>39</td>\n",
       "      <td>280</td>\n",
       "      <td>12</td>\n",
       "      <td>12</td>\n",
       "      <td>2</td>\n",
       "      <td>2</td>\n",
       "      <td>...</td>\n",
       "      <td>2</td>\n",
       "      <td>2</td>\n",
       "      <td>2</td>\n",
       "      <td>2</td>\n",
       "      <td>2</td>\n",
       "      <td>0</td>\n",
       "      <td>0</td>\n",
       "      <td>30</td>\n",
       "      <td>50</td>\n",
       "      <td>0</td>\n",
       "    </tr>\n",
       "    <tr>\n",
       "      <th>BENE11003</th>\n",
       "      <td>1936</td>\n",
       "      <td>1</td>\n",
       "      <td>1</td>\n",
       "      <td>0</td>\n",
       "      <td>52</td>\n",
       "      <td>590</td>\n",
       "      <td>12</td>\n",
       "      <td>12</td>\n",
       "      <td>1</td>\n",
       "      <td>2</td>\n",
       "      <td>...</td>\n",
       "      <td>2</td>\n",
       "      <td>1</td>\n",
       "      <td>2</td>\n",
       "      <td>2</td>\n",
       "      <td>2</td>\n",
       "      <td>0</td>\n",
       "      <td>0</td>\n",
       "      <td>90</td>\n",
       "      <td>40</td>\n",
       "      <td>0</td>\n",
       "    </tr>\n",
       "    <tr>\n",
       "      <th>BENE11004</th>\n",
       "      <td>1922</td>\n",
       "      <td>1</td>\n",
       "      <td>1</td>\n",
       "      <td>0</td>\n",
       "      <td>39</td>\n",
       "      <td>270</td>\n",
       "      <td>12</td>\n",
       "      <td>12</td>\n",
       "      <td>1</td>\n",
       "      <td>1</td>\n",
       "      <td>...</td>\n",
       "      <td>1</td>\n",
       "      <td>1</td>\n",
       "      <td>1</td>\n",
       "      <td>1</td>\n",
       "      <td>2</td>\n",
       "      <td>0</td>\n",
       "      <td>0</td>\n",
       "      <td>1810</td>\n",
       "      <td>760</td>\n",
       "      <td>0</td>\n",
       "    </tr>\n",
       "    <tr>\n",
       "      <th>BENE11005</th>\n",
       "      <td>1935</td>\n",
       "      <td>1</td>\n",
       "      <td>1</td>\n",
       "      <td>0</td>\n",
       "      <td>24</td>\n",
       "      <td>680</td>\n",
       "      <td>12</td>\n",
       "      <td>12</td>\n",
       "      <td>2</td>\n",
       "      <td>2</td>\n",
       "      <td>...</td>\n",
       "      <td>1</td>\n",
       "      <td>2</td>\n",
       "      <td>2</td>\n",
       "      <td>2</td>\n",
       "      <td>2</td>\n",
       "      <td>0</td>\n",
       "      <td>0</td>\n",
       "      <td>1790</td>\n",
       "      <td>1200</td>\n",
       "      <td>0</td>\n",
       "    </tr>\n",
       "  </tbody>\n",
       "</table>\n",
       "<p>5 rows × 24 columns</p>\n",
       "</div>"
      ],
      "text/plain": [
       "            DOB  Gender  Race  RenalDiseaseIndicator  State  County  \\\n",
       "BeneID                                                                \n",
       "BENE11001  1943       1     1                      0     39     230   \n",
       "BENE11002  1936       2     1                      0     39     280   \n",
       "BENE11003  1936       1     1                      0     52     590   \n",
       "BENE11004  1922       1     1                      0     39     270   \n",
       "BENE11005  1935       1     1                      0     24     680   \n",
       "\n",
       "           NoOfMonths_PartACov  NoOfMonths_PartBCov  ChronicCond_Alzheimer  \\\n",
       "BeneID                                                                       \n",
       "BENE11001                   12                   12                      1   \n",
       "BENE11002                   12                   12                      2   \n",
       "BENE11003                   12                   12                      1   \n",
       "BENE11004                   12                   12                      1   \n",
       "BENE11005                   12                   12                      2   \n",
       "\n",
       "           ChronicCond_Heartfailure  ...  ChronicCond_Diabetes  \\\n",
       "BeneID                               ...                         \n",
       "BENE11001                         2  ...                     1   \n",
       "BENE11002                         2  ...                     2   \n",
       "BENE11003                         2  ...                     2   \n",
       "BENE11004                         1  ...                     1   \n",
       "BENE11005                         2  ...                     1   \n",
       "\n",
       "           ChronicCond_IschemicHeart  ChronicCond_Osteoporasis  \\\n",
       "BeneID                                                           \n",
       "BENE11001                          1                         2   \n",
       "BENE11002                          2                         2   \n",
       "BENE11003                          1                         2   \n",
       "BENE11004                          1                         1   \n",
       "BENE11005                          2                         2   \n",
       "\n",
       "           ChronicCond_rheumatoidarthritis  ChronicCond_stroke  \\\n",
       "BeneID                                                           \n",
       "BENE11001                                1                   1   \n",
       "BENE11002                                2                   2   \n",
       "BENE11003                                2                   2   \n",
       "BENE11004                                1                   2   \n",
       "BENE11005                                2                   2   \n",
       "\n",
       "           IPAnnualReimbursementAmt  IPAnnualDeductibleAmt  \\\n",
       "BeneID                                                       \n",
       "BENE11001                     36000                   3204   \n",
       "BENE11002                         0                      0   \n",
       "BENE11003                         0                      0   \n",
       "BENE11004                         0                      0   \n",
       "BENE11005                         0                      0   \n",
       "\n",
       "           OPAnnualReimbursementAmt  OPAnnualDeductibleAmt  Deceased  \n",
       "BeneID                                                                \n",
       "BENE11001                        60                     70         0  \n",
       "BENE11002                        30                     50         0  \n",
       "BENE11003                        90                     40         0  \n",
       "BENE11004                      1810                    760         0  \n",
       "BENE11005                      1790                   1200         0  \n",
       "\n",
       "[5 rows x 24 columns]"
      ]
     },
     "execution_count": 9,
     "metadata": {},
     "output_type": "execute_result"
    }
   ],
   "source": [
    "beneficiary['Deceased'] = 1\n",
    "beneficiary.loc[beneficiary['DOD'].isna(), 'Deceased'] = 0\n",
    "beneficiary_features = beneficiary.drop(columns=[\"DOD\"])\n",
    "\n",
    "beneficiary_features['RenalDiseaseIndicator'] = [1 if x == 'Y' else 0 for x in beneficiary['RenalDiseaseIndicator']]\n",
    "\n",
    "beneficiary_features['DOB'] = beneficiary_features['DOB'].str.split('-').str[0].astype(int)\n",
    "beneficiary_features.set_index('BeneID', inplace=True)\n",
    "beneficiary_features.head()"
   ]
  },
  {
   "cell_type": "markdown",
   "id": "9c626e8c",
   "metadata": {},
   "source": [
    "## Network construction"
   ]
  },
  {
   "cell_type": "markdown",
   "id": "b965a5c0",
   "metadata": {},
   "source": [
    "For the network, we work exclusively with providers and beneficiaries. We will look at the connected components in an attempt to find a meaningful train-test split. "
   ]
  },
  {
   "cell_type": "code",
   "execution_count": 10,
   "id": "d9c68f3a",
   "metadata": {},
   "outputs": [
    {
     "data": {
      "application/vnd.microsoft.datawrangler.viewer.v0+json": {
       "columns": [
        {
         "name": "index",
         "rawType": "int64",
         "type": "integer"
        },
        {
         "name": "Provider",
         "rawType": "object",
         "type": "string"
        },
        {
         "name": "BeneID",
         "rawType": "object",
         "type": "string"
        },
        {
         "name": "InscClaimAmtReimbursed",
         "rawType": "int64",
         "type": "integer"
        }
       ],
       "ref": "ae02d068-c92e-4f06-8b94-c4ed65bae13f",
       "rows": [
        [
         "0",
         "PRV55912",
         "BENE11001",
         "26000"
        ],
        [
         "1",
         "PRV55907",
         "BENE11001",
         "5000"
        ],
        [
         "2",
         "PRV56046",
         "BENE11001",
         "5000"
        ],
        [
         "3",
         "PRV52405",
         "BENE11011",
         "5000"
        ],
        [
         "4",
         "PRV56614",
         "BENE11014",
         "10000"
        ],
        [
         "5",
         "PRV54986",
         "BENE11017",
         "8000"
        ],
        [
         "6",
         "PRV54090",
         "BENE11018",
         "8000"
        ],
        [
         "7",
         "PRV51148",
         "BENE11028",
         "6000"
        ],
        [
         "8",
         "PRV55839",
         "BENE11031",
         "7000"
        ],
        [
         "9",
         "PRV55215",
         "BENE11034",
         "29000"
        ],
        [
         "10",
         "PRV55193",
         "BENE11034",
         "102000"
        ],
        [
         "11",
         "PRV51145",
         "BENE11036",
         "30000"
        ],
        [
         "12",
         "PRV55846",
         "BENE11037",
         "3000"
        ],
        [
         "13",
         "PRV52283",
         "BENE11041",
         "6000"
        ],
        [
         "14",
         "PRV52283",
         "BENE11041",
         "17000"
        ],
        [
         "15",
         "PRV56588",
         "BENE11045",
         "9000"
        ],
        [
         "16",
         "PRV56118",
         "BENE11046",
         "7000"
        ],
        [
         "17",
         "PRV57191",
         "BENE11054",
         "4000"
        ],
        [
         "18",
         "PRV54675",
         "BENE11055",
         "5000"
        ],
        [
         "19",
         "PRV54676",
         "BENE11055",
         "11000"
        ],
        [
         "20",
         "PRV51393",
         "BENE11057",
         "13000"
        ],
        [
         "21",
         "PRV51342",
         "BENE11057",
         "10000"
        ],
        [
         "22",
         "PRV55834",
         "BENE11057",
         "11000"
        ],
        [
         "23",
         "PRV51578",
         "BENE11065",
         "5000"
        ],
        [
         "24",
         "PRV53937",
         "BENE11066",
         "15000"
        ],
        [
         "25",
         "PRV51710",
         "BENE11067",
         "4000"
        ],
        [
         "26",
         "PRV53135",
         "BENE11069",
         "3000"
        ],
        [
         "27",
         "PRV53135",
         "BENE11069",
         "14000"
        ],
        [
         "28",
         "PRV55023",
         "BENE11071",
         "5000"
        ],
        [
         "29",
         "PRV56490",
         "BENE11078",
         "19000"
        ],
        [
         "30",
         "PRV55462",
         "BENE11079",
         "5000"
        ],
        [
         "31",
         "PRV51550",
         "BENE11080",
         "5000"
        ],
        [
         "32",
         "PRV57523",
         "BENE11081",
         "10000"
        ],
        [
         "33",
         "PRV52898",
         "BENE11082",
         "11000"
        ],
        [
         "34",
         "PRV51842",
         "BENE11093",
         "20000"
        ],
        [
         "35",
         "PRV51842",
         "BENE11093",
         "20000"
        ],
        [
         "36",
         "PRV51560",
         "BENE11098",
         "5000"
        ],
        [
         "37",
         "PRV51560",
         "BENE11098",
         "11000"
        ],
        [
         "38",
         "PRV51164",
         "BENE11101",
         "7000"
        ],
        [
         "39",
         "PRV51146",
         "BENE11101",
         "1000"
        ],
        [
         "40",
         "PRV54936",
         "BENE11127",
         "8000"
        ],
        [
         "41",
         "PRV57341",
         "BENE11141",
         "11000"
        ],
        [
         "42",
         "PRV53769",
         "BENE11144",
         "8000"
        ],
        [
         "43",
         "PRV51140",
         "BENE11147",
         "2000"
        ],
        [
         "44",
         "PRV55005",
         "BENE11149",
         "12000"
        ],
        [
         "45",
         "PRV53431",
         "BENE11151",
         "21000"
        ],
        [
         "46",
         "PRV52019",
         "BENE11153",
         "3000"
        ],
        [
         "47",
         "PRV54955",
         "BENE11163",
         "5000"
        ],
        [
         "48",
         "PRV56268",
         "BENE11165",
         "47000"
        ],
        [
         "49",
         "PRV53807",
         "BENE11169",
         "18000"
        ]
       ],
       "shape": {
        "columns": 3,
        "rows": 558211
       }
      },
      "text/html": [
       "<div>\n",
       "<style scoped>\n",
       "    .dataframe tbody tr th:only-of-type {\n",
       "        vertical-align: middle;\n",
       "    }\n",
       "\n",
       "    .dataframe tbody tr th {\n",
       "        vertical-align: top;\n",
       "    }\n",
       "\n",
       "    .dataframe thead th {\n",
       "        text-align: right;\n",
       "    }\n",
       "</style>\n",
       "<table border=\"1\" class=\"dataframe\">\n",
       "  <thead>\n",
       "    <tr style=\"text-align: right;\">\n",
       "      <th></th>\n",
       "      <th>Provider</th>\n",
       "      <th>BeneID</th>\n",
       "      <th>InscClaimAmtReimbursed</th>\n",
       "    </tr>\n",
       "  </thead>\n",
       "  <tbody>\n",
       "    <tr>\n",
       "      <th>0</th>\n",
       "      <td>PRV55912</td>\n",
       "      <td>BENE11001</td>\n",
       "      <td>26000</td>\n",
       "    </tr>\n",
       "    <tr>\n",
       "      <th>1</th>\n",
       "      <td>PRV55907</td>\n",
       "      <td>BENE11001</td>\n",
       "      <td>5000</td>\n",
       "    </tr>\n",
       "    <tr>\n",
       "      <th>2</th>\n",
       "      <td>PRV56046</td>\n",
       "      <td>BENE11001</td>\n",
       "      <td>5000</td>\n",
       "    </tr>\n",
       "    <tr>\n",
       "      <th>3</th>\n",
       "      <td>PRV52405</td>\n",
       "      <td>BENE11011</td>\n",
       "      <td>5000</td>\n",
       "    </tr>\n",
       "    <tr>\n",
       "      <th>4</th>\n",
       "      <td>PRV56614</td>\n",
       "      <td>BENE11014</td>\n",
       "      <td>10000</td>\n",
       "    </tr>\n",
       "    <tr>\n",
       "      <th>...</th>\n",
       "      <td>...</td>\n",
       "      <td>...</td>\n",
       "      <td>...</td>\n",
       "    </tr>\n",
       "    <tr>\n",
       "      <th>517732</th>\n",
       "      <td>PRV53699</td>\n",
       "      <td>BENE159198</td>\n",
       "      <td>800</td>\n",
       "    </tr>\n",
       "    <tr>\n",
       "      <th>517733</th>\n",
       "      <td>PRV53702</td>\n",
       "      <td>BENE159198</td>\n",
       "      <td>400</td>\n",
       "    </tr>\n",
       "    <tr>\n",
       "      <th>517734</th>\n",
       "      <td>PRV53676</td>\n",
       "      <td>BENE159198</td>\n",
       "      <td>60</td>\n",
       "    </tr>\n",
       "    <tr>\n",
       "      <th>517735</th>\n",
       "      <td>PRV53689</td>\n",
       "      <td>BENE159198</td>\n",
       "      <td>70</td>\n",
       "    </tr>\n",
       "    <tr>\n",
       "      <th>517736</th>\n",
       "      <td>PRV53689</td>\n",
       "      <td>BENE159198</td>\n",
       "      <td>80</td>\n",
       "    </tr>\n",
       "  </tbody>\n",
       "</table>\n",
       "<p>558211 rows × 3 columns</p>\n",
       "</div>"
      ],
      "text/plain": [
       "        Provider      BeneID  InscClaimAmtReimbursed\n",
       "0       PRV55912   BENE11001                   26000\n",
       "1       PRV55907   BENE11001                    5000\n",
       "2       PRV56046   BENE11001                    5000\n",
       "3       PRV52405   BENE11011                    5000\n",
       "4       PRV56614   BENE11014                   10000\n",
       "...          ...         ...                     ...\n",
       "517732  PRV53699  BENE159198                     800\n",
       "517733  PRV53702  BENE159198                     400\n",
       "517734  PRV53676  BENE159198                      60\n",
       "517735  PRV53689  BENE159198                      70\n",
       "517736  PRV53689  BENE159198                      80\n",
       "\n",
       "[558211 rows x 3 columns]"
      ]
     },
     "execution_count": 10,
     "metadata": {},
     "output_type": "execute_result"
    }
   ],
   "source": [
    "edges"
   ]
  },
  {
   "cell_type": "code",
   "execution_count": 11,
   "id": "afe6025f",
   "metadata": {},
   "outputs": [],
   "source": [
    "import networkx as nx\n",
    "G = nx.Graph()\n",
    "\n",
    "for node in provider_features.index:\n",
    "    G.add_nodes_from([(node, {'label': 'provider'})])\n",
    "for node in beneficiary_features.index:\n",
    "    G.add_nodes_from([(node, {'label': 'beneficiary'})])\n",
    "\n",
    "G.add_edges_from(edges[['Provider', 'BeneID']].itertuples(index=False, name=None))"
   ]
  },
  {
   "cell_type": "code",
   "execution_count": 12,
   "id": "7b02f9ec",
   "metadata": {},
   "outputs": [
    {
     "name": "stdout",
     "output_type": "stream",
     "text": [
      "Component of size 143897:\n",
      "Component of size 2:\n",
      "Component of size 2:\n",
      "Component of size 3:\n",
      "Component of size 2:\n",
      "Component of size 3:\n",
      "Component of size 2:\n",
      "Component of size 2:\n",
      "Component of size 2:\n",
      "Component of size 2:\n",
      "Component of size 2:\n",
      "Component of size 2:\n",
      "Component of size 2:\n",
      "Component of size 5:\n",
      "Component of size 2:\n",
      "Component of size 2:\n",
      "Component of size 2:\n",
      "Component of size 2:\n",
      "Component of size 2:\n",
      "Component of size 3:\n",
      "Component of size 5:\n",
      "Component of size 2:\n",
      "Component of size 2:\n",
      "Component of size 2:\n",
      "Component of size 2:\n",
      "Component of size 2:\n",
      "Component of size 2:\n",
      "Component of size 2:\n",
      "Component of size 4:\n",
      "Component of size 2:\n"
     ]
    }
   ],
   "source": [
    "for component in nx.connected_components(G):\n",
    "    print(f\"Component of size {len(component)}:\")\n",
    "\n",
    "list_components = list(nx.connected_components(G))\n",
    "largest_component = max(list_components, key=len)"
   ]
  },
  {
   "cell_type": "code",
   "execution_count": 13,
   "id": "20d4a1ac",
   "metadata": {},
   "outputs": [],
   "source": [
    "G = G.subgraph(largest_component).copy()"
   ]
  },
  {
   "cell_type": "code",
   "execution_count": 14,
   "id": "70998c4b",
   "metadata": {},
   "outputs": [
    {
     "data": {
      "image/png": "[encoded data removed]",
      "text/plain": [
       "<Figure size 640x480 with 1 Axes>"
      ]
     },
     "metadata": {},
     "output_type": "display_data"
    }
   ],
   "source": [
    "# draw network with colourmap according to label of node\n",
    "ego_net = nx.ego_graph(G, 'PRV51001', radius=3)\n",
    "node_colors = ['blue' if ego_net.nodes[n]['label'] == 'provider' else 'orange' for n in ego_net.nodes()]\n",
    "nx.draw_networkx(ego_net, with_labels=False, node_size=50, font_size=5, node_color=node_colors)"
   ]
  },
  {
   "cell_type": "markdown",
   "id": "a90f4ca9",
   "metadata": {},
   "source": [
    "## Train-test split"
   ]
  },
  {
   "cell_type": "markdown",
   "id": "7a85be8d",
   "metadata": {},
   "source": [
    "The train-test split can be done in many different ways. Here, we opt to apply the louvain community detection method. The resulting communities are used to split the graph into two groups, one for training and one for testing. \n",
    "\n",
    "We set the resolution parameter quite low to favour large communities. "
   ]
  },
  {
   "cell_type": "code",
   "execution_count": 15,
   "id": "03ea6bd3",
   "metadata": {},
   "outputs": [],
   "source": [
    "communities = nx.community.louvain_communities(G, resolution=0.2, seed = 2025)"
   ]
  },
  {
   "cell_type": "code",
   "execution_count": 16,
   "id": "6d62372b",
   "metadata": {},
   "outputs": [
    {
     "data": {
      "text/plain": [
       "6"
      ]
     },
     "execution_count": 16,
     "metadata": {},
     "output_type": "execute_result"
    }
   ],
   "source": [
    "len(communities)"
   ]
  },
  {
   "cell_type": "code",
   "execution_count": 17,
   "id": "77a33e47",
   "metadata": {},
   "outputs": [
    {
     "name": "stdout",
     "output_type": "stream",
     "text": [
      "Community of size: 16002\n",
      "Community of size: 12986\n",
      "Community of size: 11733\n",
      "Community of size: 26201\n",
      "Community of size: 57136\n",
      "Community of size: 19839\n"
     ]
    }
   ],
   "source": [
    "for com in communities:\n",
    "    print(f\"Community of size: {len(com)}\")"
   ]
  },
  {
   "cell_type": "code",
   "execution_count": 18,
   "id": "b557349f",
   "metadata": {},
   "outputs": [],
   "source": [
    "com_1 = [communities[i] for i in [1,2,4]]\n",
    "com_1_nodes = [node for com in com_1 for node in com]\n",
    "com_2 = [communities[i] for i in [0,3,5]]\n",
    "com_2_nodes = [node for com in com_2 for node in com]"
   ]
  },
  {
   "cell_type": "code",
   "execution_count": 19,
   "id": "df992c2e",
   "metadata": {},
   "outputs": [],
   "source": [
    "G_train = G.subgraph(com_1_nodes)\n",
    "G_test = G.subgraph(com_2_nodes)"
   ]
  },
  {
   "cell_type": "code",
   "execution_count": 20,
   "id": "5cb4cdef",
   "metadata": {},
   "outputs": [],
   "source": [
    "dataset_beneficiaries_train = beneficiary_features.loc[[n for n, d in G_train.nodes(data=True) if d['label'] == 'beneficiary']]\n",
    "dataset_providers_train = provider_features.loc[[n for n, d in G_train.nodes(data=True) if d['label'] == 'provider']]\n",
    "\n",
    "dataset_beneficiaries_test = beneficiary_features.loc[[n for n, d in G_test.nodes(data=True) if d['label'] == 'beneficiary']]\n",
    "dataset_providers_test = provider_features.loc[[n for n, d in G_test.nodes(data=True) if d['label'] == 'provider']]\n",
    "\n",
    "labels_providers_train = labels.loc[dataset_providers_train.index]\n",
    "labels_providers_test = labels.loc[dataset_providers_test.index]\n",
    "\n",
    "# Beneficiaries don't have labels. Make dataframes with all 0's\n",
    "labels_beneficiaries_train = pd.DataFrame(0, index=dataset_beneficiaries_train.index, columns=['Label'])\n",
    "labels_beneficiaries_test = pd.DataFrame(0, index=dataset_beneficiaries_test.index, columns=['Label'])"
   ]
  },
  {
   "cell_type": "code",
   "execution_count": 21,
   "id": "2fb7e9d7",
   "metadata": {},
   "outputs": [],
   "source": [
    "x_train = [\n",
    "    G_train, \n",
    "    dataset_providers_train, \n",
    "    dataset_beneficiaries_train, \n",
    "    labels_providers_train,\n",
    "    labels_beneficiaries_train\n",
    "]\n",
    "\n",
    "x_test = [\n",
    "    G_test, \n",
    "    dataset_providers_test, \n",
    "    dataset_beneficiaries_test, \n",
    "    labels_providers_test,\n",
    "    labels_beneficiaries_test\n",
    "]"
   ]
  },
  {
   "cell_type": "code",
   "execution_count": 22,
   "id": "bec43cc7",
   "metadata": {},
   "outputs": [],
   "source": [
    "import pickle\n",
    "with open('../data/HCP/hcp_train.pkl', 'wb') as f:\n",
    "    pickle.dump(x_train, f)\n",
    "\n",
    "with open('../data/HCP/hcp_test.pkl', 'wb') as f:\n",
    "    pickle.dump(x_test, f)"
   ]
  },
  {
   "cell_type": "code",
   "execution_count": null,
   "id": "eceb142d",
   "metadata": {},
   "outputs": [],
   "source": []
  }
 ],
 "metadata": {
  "kernelspec": {
   "display_name": "GBDT38",
   "language": "python",
   "name": "python3"
  },
  "language_info": {
   "codemirror_mode": {
    "name": "ipython",
    "version": 3
   },
   "file_extension": ".py",
   "mimetype": "text/x-python",
   "name": "python",
   "nbconvert_exporter": "python",
   "pygments_lexer": "ipython3",
   "version": "3.8.20"
  }
 },
 "nbformat": 4,
 "nbformat_minor": 5
}
